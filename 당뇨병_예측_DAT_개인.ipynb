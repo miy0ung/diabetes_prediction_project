{
  "cells": [
    {
      "cell_type": "markdown",
      "metadata": {
        "id": "view-in-github",
        "colab_type": "text"
      },
      "source": [
        "<a href=\"https://colab.research.google.com/github/miy0ung/diabetes_prediction_project/blob/main/%EB%8B%B9%EB%87%A8%EB%B3%91_%EC%98%88%EC%B8%A1_DAT_%EA%B0%9C%EC%9D%B8.ipynb\" target=\"_parent\"><img src=\"https://colab.research.google.com/assets/colab-badge.svg\" alt=\"Open In Colab\"/></a>"
      ]
    },
    {
      "cell_type": "markdown",
      "metadata": {
        "id": "569e27d4"
      },
      "source": [
        "# 당뇨병 예측"
      ],
      "id": "569e27d4"
    },
    {
      "cell_type": "markdown",
      "source": [
        "## **1. 데이터셋 불러오기**"
      ],
      "metadata": {
        "id": "63hxkz5ciuNF"
      },
      "id": "63hxkz5ciuNF"
    },
    {
      "cell_type": "code",
      "execution_count": 1,
      "metadata": {
        "colab": {
          "base_uri": "https://localhost:8080/"
        },
        "id": "bklu7mjHu5Nh",
        "outputId": "f4f48cf2-1c95-430d-ebca-942497c2b7e2"
      },
      "outputs": [
        {
          "output_type": "stream",
          "name": "stdout",
          "text": [
            "Mounted at /content/drive\n"
          ]
        }
      ],
      "source": [
        "from google.colab import drive\n",
        "drive.mount('/content/drive')"
      ],
      "id": "bklu7mjHu5Nh"
    },
    {
      "cell_type": "code",
      "execution_count": 2,
      "metadata": {
        "id": "828293a7"
      },
      "outputs": [],
      "source": [
        "import numpy as np\n",
        "import pandas as pd \n",
        "import matplotlib.pyplot as plt"
      ],
      "id": "828293a7"
    },
    {
      "cell_type": "code",
      "execution_count": 3,
      "metadata": {
        "id": "0fb43293"
      },
      "outputs": [],
      "source": [
        "df = pd.read_csv('/content/drive/MyDrive/DAT/당뇨병 예측/diabetes_prediction_dataset.csv')"
      ],
      "id": "0fb43293"
    },
    {
      "cell_type": "markdown",
      "metadata": {
        "id": "aof-t3S0Oqop"
      },
      "source": [
        "## **2. EDA & 데이터 전처리**"
      ],
      "id": "aof-t3S0Oqop"
    },
    {
      "cell_type": "markdown",
      "source": [
        "### 전처리"
      ],
      "metadata": {
        "id": "d_Y5ZgGgqscV"
      },
      "id": "d_Y5ZgGgqscV"
    },
    {
      "cell_type": "code",
      "execution_count": 4,
      "metadata": {
        "id": "wx22177iOqOi",
        "colab": {
          "base_uri": "https://localhost:8080/"
        },
        "outputId": "6cf6e032-8efd-4a70-df53-008ff20c18bd"
      },
      "outputs": [
        {
          "output_type": "stream",
          "name": "stdout",
          "text": [
            "gender                 0\n",
            "age                    0\n",
            "hypertension           0\n",
            "heart_disease          0\n",
            "smoking_history        0\n",
            "bmi                    0\n",
            "HbA1c_level            0\n",
            "blood_glucose_level    0\n",
            "diabetes               0\n",
            "dtype: int64\n"
          ]
        }
      ],
      "source": [
        "print(df.isnull().sum())"
      ],
      "id": "wx22177iOqOi"
    },
    {
      "cell_type": "code",
      "source": [
        "#중복된 행 제거\n",
        "df.duplicated().sum()\n",
        "df.shape"
      ],
      "metadata": {
        "id": "fQrAzWaXiX6y",
        "colab": {
          "base_uri": "https://localhost:8080/"
        },
        "outputId": "aa8bd83f-7bd2-48e1-e205-4eb3e32fd178"
      },
      "id": "fQrAzWaXiX6y",
      "execution_count": 5,
      "outputs": [
        {
          "output_type": "execute_result",
          "data": {
            "text/plain": [
              "(100000, 9)"
            ]
          },
          "metadata": {},
          "execution_count": 5
        }
      ]
    },
    {
      "cell_type": "code",
      "execution_count": 6,
      "metadata": {
        "id": "dJvGHx1L6pCN"
      },
      "outputs": [],
      "source": [
        "df = df[df['gender'] != 'Other']"
      ],
      "id": "dJvGHx1L6pCN"
    },
    {
      "cell_type": "code",
      "source": [
        "df['age'] = df['age'].astype(int)"
      ],
      "metadata": {
        "id": "gDP527G6dDiw",
        "colab": {
          "base_uri": "https://localhost:8080/"
        },
        "outputId": "e7f7daa0-463d-4998-82d1-3c4c3d27bfff"
      },
      "id": "gDP527G6dDiw",
      "execution_count": 7,
      "outputs": [
        {
          "output_type": "stream",
          "name": "stderr",
          "text": [
            "<ipython-input-7-9b0df8191b9d>:1: SettingWithCopyWarning: \n",
            "A value is trying to be set on a copy of a slice from a DataFrame.\n",
            "Try using .loc[row_indexer,col_indexer] = value instead\n",
            "\n",
            "See the caveats in the documentation: https://pandas.pydata.org/pandas-docs/stable/user_guide/indexing.html#returning-a-view-versus-a-copy\n",
            "  df['age'] = df['age'].astype(int)\n"
          ]
        }
      ]
    },
    {
      "cell_type": "code",
      "source": [
        "gender_dummies = pd.get_dummies(df['gender'])\n",
        "df = pd.concat([df, gender_dummies], axis=1)\n",
        "df=df.drop(['gender'], axis=1)\n",
        "df"
      ],
      "metadata": {
        "colab": {
          "base_uri": "https://localhost:8080/",
          "height": 487
        },
        "id": "Idejj9XrfsmU",
        "outputId": "e2e3e014-c580-4a4e-f877-df0754a5be66"
      },
      "id": "Idejj9XrfsmU",
      "execution_count": 8,
      "outputs": [
        {
          "output_type": "execute_result",
          "data": {
            "text/plain": [
              "       age  hypertension  heart_disease smoking_history    bmi  HbA1c_level  \\\n",
              "0       80             0              1           never  25.19          6.6   \n",
              "1       54             0              0         No Info  27.32          6.6   \n",
              "2       28             0              0           never  27.32          5.7   \n",
              "3       36             0              0         current  23.45          5.0   \n",
              "4       76             1              1         current  20.14          4.8   \n",
              "...    ...           ...            ...             ...    ...          ...   \n",
              "99995   80             0              0         No Info  27.32          6.2   \n",
              "99996    2             0              0         No Info  17.37          6.5   \n",
              "99997   66             0              0          former  27.83          5.7   \n",
              "99998   24             0              0           never  35.42          4.0   \n",
              "99999   57             0              0         current  22.43          6.6   \n",
              "\n",
              "       blood_glucose_level  diabetes  Female  Male  \n",
              "0                      140         0       1     0  \n",
              "1                       80         0       1     0  \n",
              "2                      158         0       0     1  \n",
              "3                      155         0       1     0  \n",
              "4                      155         0       0     1  \n",
              "...                    ...       ...     ...   ...  \n",
              "99995                   90         0       1     0  \n",
              "99996                  100         0       1     0  \n",
              "99997                  155         0       0     1  \n",
              "99998                  100         0       1     0  \n",
              "99999                   90         0       1     0  \n",
              "\n",
              "[99982 rows x 10 columns]"
            ],
            "text/html": [
              "\n",
              "  <div id=\"df-049fcfe1-1ee6-461f-9fac-710fc9806602\">\n",
              "    <div class=\"colab-df-container\">\n",
              "      <div>\n",
              "<style scoped>\n",
              "    .dataframe tbody tr th:only-of-type {\n",
              "        vertical-align: middle;\n",
              "    }\n",
              "\n",
              "    .dataframe tbody tr th {\n",
              "        vertical-align: top;\n",
              "    }\n",
              "\n",
              "    .dataframe thead th {\n",
              "        text-align: right;\n",
              "    }\n",
              "</style>\n",
              "<table border=\"1\" class=\"dataframe\">\n",
              "  <thead>\n",
              "    <tr style=\"text-align: right;\">\n",
              "      <th></th>\n",
              "      <th>age</th>\n",
              "      <th>hypertension</th>\n",
              "      <th>heart_disease</th>\n",
              "      <th>smoking_history</th>\n",
              "      <th>bmi</th>\n",
              "      <th>HbA1c_level</th>\n",
              "      <th>blood_glucose_level</th>\n",
              "      <th>diabetes</th>\n",
              "      <th>Female</th>\n",
              "      <th>Male</th>\n",
              "    </tr>\n",
              "  </thead>\n",
              "  <tbody>\n",
              "    <tr>\n",
              "      <th>0</th>\n",
              "      <td>80</td>\n",
              "      <td>0</td>\n",
              "      <td>1</td>\n",
              "      <td>never</td>\n",
              "      <td>25.19</td>\n",
              "      <td>6.6</td>\n",
              "      <td>140</td>\n",
              "      <td>0</td>\n",
              "      <td>1</td>\n",
              "      <td>0</td>\n",
              "    </tr>\n",
              "    <tr>\n",
              "      <th>1</th>\n",
              "      <td>54</td>\n",
              "      <td>0</td>\n",
              "      <td>0</td>\n",
              "      <td>No Info</td>\n",
              "      <td>27.32</td>\n",
              "      <td>6.6</td>\n",
              "      <td>80</td>\n",
              "      <td>0</td>\n",
              "      <td>1</td>\n",
              "      <td>0</td>\n",
              "    </tr>\n",
              "    <tr>\n",
              "      <th>2</th>\n",
              "      <td>28</td>\n",
              "      <td>0</td>\n",
              "      <td>0</td>\n",
              "      <td>never</td>\n",
              "      <td>27.32</td>\n",
              "      <td>5.7</td>\n",
              "      <td>158</td>\n",
              "      <td>0</td>\n",
              "      <td>0</td>\n",
              "      <td>1</td>\n",
              "    </tr>\n",
              "    <tr>\n",
              "      <th>3</th>\n",
              "      <td>36</td>\n",
              "      <td>0</td>\n",
              "      <td>0</td>\n",
              "      <td>current</td>\n",
              "      <td>23.45</td>\n",
              "      <td>5.0</td>\n",
              "      <td>155</td>\n",
              "      <td>0</td>\n",
              "      <td>1</td>\n",
              "      <td>0</td>\n",
              "    </tr>\n",
              "    <tr>\n",
              "      <th>4</th>\n",
              "      <td>76</td>\n",
              "      <td>1</td>\n",
              "      <td>1</td>\n",
              "      <td>current</td>\n",
              "      <td>20.14</td>\n",
              "      <td>4.8</td>\n",
              "      <td>155</td>\n",
              "      <td>0</td>\n",
              "      <td>0</td>\n",
              "      <td>1</td>\n",
              "    </tr>\n",
              "    <tr>\n",
              "      <th>...</th>\n",
              "      <td>...</td>\n",
              "      <td>...</td>\n",
              "      <td>...</td>\n",
              "      <td>...</td>\n",
              "      <td>...</td>\n",
              "      <td>...</td>\n",
              "      <td>...</td>\n",
              "      <td>...</td>\n",
              "      <td>...</td>\n",
              "      <td>...</td>\n",
              "    </tr>\n",
              "    <tr>\n",
              "      <th>99995</th>\n",
              "      <td>80</td>\n",
              "      <td>0</td>\n",
              "      <td>0</td>\n",
              "      <td>No Info</td>\n",
              "      <td>27.32</td>\n",
              "      <td>6.2</td>\n",
              "      <td>90</td>\n",
              "      <td>0</td>\n",
              "      <td>1</td>\n",
              "      <td>0</td>\n",
              "    </tr>\n",
              "    <tr>\n",
              "      <th>99996</th>\n",
              "      <td>2</td>\n",
              "      <td>0</td>\n",
              "      <td>0</td>\n",
              "      <td>No Info</td>\n",
              "      <td>17.37</td>\n",
              "      <td>6.5</td>\n",
              "      <td>100</td>\n",
              "      <td>0</td>\n",
              "      <td>1</td>\n",
              "      <td>0</td>\n",
              "    </tr>\n",
              "    <tr>\n",
              "      <th>99997</th>\n",
              "      <td>66</td>\n",
              "      <td>0</td>\n",
              "      <td>0</td>\n",
              "      <td>former</td>\n",
              "      <td>27.83</td>\n",
              "      <td>5.7</td>\n",
              "      <td>155</td>\n",
              "      <td>0</td>\n",
              "      <td>0</td>\n",
              "      <td>1</td>\n",
              "    </tr>\n",
              "    <tr>\n",
              "      <th>99998</th>\n",
              "      <td>24</td>\n",
              "      <td>0</td>\n",
              "      <td>0</td>\n",
              "      <td>never</td>\n",
              "      <td>35.42</td>\n",
              "      <td>4.0</td>\n",
              "      <td>100</td>\n",
              "      <td>0</td>\n",
              "      <td>1</td>\n",
              "      <td>0</td>\n",
              "    </tr>\n",
              "    <tr>\n",
              "      <th>99999</th>\n",
              "      <td>57</td>\n",
              "      <td>0</td>\n",
              "      <td>0</td>\n",
              "      <td>current</td>\n",
              "      <td>22.43</td>\n",
              "      <td>6.6</td>\n",
              "      <td>90</td>\n",
              "      <td>0</td>\n",
              "      <td>1</td>\n",
              "      <td>0</td>\n",
              "    </tr>\n",
              "  </tbody>\n",
              "</table>\n",
              "<p>99982 rows × 10 columns</p>\n",
              "</div>\n",
              "      <button class=\"colab-df-convert\" onclick=\"convertToInteractive('df-049fcfe1-1ee6-461f-9fac-710fc9806602')\"\n",
              "              title=\"Convert this dataframe to an interactive table.\"\n",
              "              style=\"display:none;\">\n",
              "        \n",
              "  <svg xmlns=\"http://www.w3.org/2000/svg\" height=\"24px\"viewBox=\"0 0 24 24\"\n",
              "       width=\"24px\">\n",
              "    <path d=\"M0 0h24v24H0V0z\" fill=\"none\"/>\n",
              "    <path d=\"M18.56 5.44l.94 2.06.94-2.06 2.06-.94-2.06-.94-.94-2.06-.94 2.06-2.06.94zm-11 1L8.5 8.5l.94-2.06 2.06-.94-2.06-.94L8.5 2.5l-.94 2.06-2.06.94zm10 10l.94 2.06.94-2.06 2.06-.94-2.06-.94-.94-2.06-.94 2.06-2.06.94z\"/><path d=\"M17.41 7.96l-1.37-1.37c-.4-.4-.92-.59-1.43-.59-.52 0-1.04.2-1.43.59L10.3 9.45l-7.72 7.72c-.78.78-.78 2.05 0 2.83L4 21.41c.39.39.9.59 1.41.59.51 0 1.02-.2 1.41-.59l7.78-7.78 2.81-2.81c.8-.78.8-2.07 0-2.86zM5.41 20L4 18.59l7.72-7.72 1.47 1.35L5.41 20z\"/>\n",
              "  </svg>\n",
              "      </button>\n",
              "      \n",
              "  <style>\n",
              "    .colab-df-container {\n",
              "      display:flex;\n",
              "      flex-wrap:wrap;\n",
              "      gap: 12px;\n",
              "    }\n",
              "\n",
              "    .colab-df-convert {\n",
              "      background-color: #E8F0FE;\n",
              "      border: none;\n",
              "      border-radius: 50%;\n",
              "      cursor: pointer;\n",
              "      display: none;\n",
              "      fill: #1967D2;\n",
              "      height: 32px;\n",
              "      padding: 0 0 0 0;\n",
              "      width: 32px;\n",
              "    }\n",
              "\n",
              "    .colab-df-convert:hover {\n",
              "      background-color: #E2EBFA;\n",
              "      box-shadow: 0px 1px 2px rgba(60, 64, 67, 0.3), 0px 1px 3px 1px rgba(60, 64, 67, 0.15);\n",
              "      fill: #174EA6;\n",
              "    }\n",
              "\n",
              "    [theme=dark] .colab-df-convert {\n",
              "      background-color: #3B4455;\n",
              "      fill: #D2E3FC;\n",
              "    }\n",
              "\n",
              "    [theme=dark] .colab-df-convert:hover {\n",
              "      background-color: #434B5C;\n",
              "      box-shadow: 0px 1px 3px 1px rgba(0, 0, 0, 0.15);\n",
              "      filter: drop-shadow(0px 1px 2px rgba(0, 0, 0, 0.3));\n",
              "      fill: #FFFFFF;\n",
              "    }\n",
              "  </style>\n",
              "\n",
              "      <script>\n",
              "        const buttonEl =\n",
              "          document.querySelector('#df-049fcfe1-1ee6-461f-9fac-710fc9806602 button.colab-df-convert');\n",
              "        buttonEl.style.display =\n",
              "          google.colab.kernel.accessAllowed ? 'block' : 'none';\n",
              "\n",
              "        async function convertToInteractive(key) {\n",
              "          const element = document.querySelector('#df-049fcfe1-1ee6-461f-9fac-710fc9806602');\n",
              "          const dataTable =\n",
              "            await google.colab.kernel.invokeFunction('convertToInteractive',\n",
              "                                                     [key], {});\n",
              "          if (!dataTable) return;\n",
              "\n",
              "          const docLinkHtml = 'Like what you see? Visit the ' +\n",
              "            '<a target=\"_blank\" href=https://colab.research.google.com/notebooks/data_table.ipynb>data table notebook</a>'\n",
              "            + ' to learn more about interactive tables.';\n",
              "          element.innerHTML = '';\n",
              "          dataTable['output_type'] = 'display_data';\n",
              "          await google.colab.output.renderOutput(dataTable, element);\n",
              "          const docLink = document.createElement('div');\n",
              "          docLink.innerHTML = docLinkHtml;\n",
              "          element.appendChild(docLink);\n",
              "        }\n",
              "      </script>\n",
              "    </div>\n",
              "  </div>\n",
              "  "
            ]
          },
          "metadata": {},
          "execution_count": 8
        }
      ]
    },
    {
      "cell_type": "code",
      "source": [
        "from sklearn.preprocessing import LabelEncoder\n",
        "\n",
        "le = LabelEncoder()\n",
        "df['smoking_history'] = le.fit_transform(df['smoking_history'])\n",
        "df"
      ],
      "metadata": {
        "id": "XowZaAvbGQL9",
        "colab": {
          "base_uri": "https://localhost:8080/",
          "height": 487
        },
        "outputId": "a03be8f0-f2a6-4b3b-e741-18bae58ee758"
      },
      "id": "XowZaAvbGQL9",
      "execution_count": 9,
      "outputs": [
        {
          "output_type": "execute_result",
          "data": {
            "text/plain": [
              "       age  hypertension  heart_disease  smoking_history    bmi  HbA1c_level  \\\n",
              "0       80             0              1                4  25.19          6.6   \n",
              "1       54             0              0                0  27.32          6.6   \n",
              "2       28             0              0                4  27.32          5.7   \n",
              "3       36             0              0                1  23.45          5.0   \n",
              "4       76             1              1                1  20.14          4.8   \n",
              "...    ...           ...            ...              ...    ...          ...   \n",
              "99995   80             0              0                0  27.32          6.2   \n",
              "99996    2             0              0                0  17.37          6.5   \n",
              "99997   66             0              0                3  27.83          5.7   \n",
              "99998   24             0              0                4  35.42          4.0   \n",
              "99999   57             0              0                1  22.43          6.6   \n",
              "\n",
              "       blood_glucose_level  diabetes  Female  Male  \n",
              "0                      140         0       1     0  \n",
              "1                       80         0       1     0  \n",
              "2                      158         0       0     1  \n",
              "3                      155         0       1     0  \n",
              "4                      155         0       0     1  \n",
              "...                    ...       ...     ...   ...  \n",
              "99995                   90         0       1     0  \n",
              "99996                  100         0       1     0  \n",
              "99997                  155         0       0     1  \n",
              "99998                  100         0       1     0  \n",
              "99999                   90         0       1     0  \n",
              "\n",
              "[99982 rows x 10 columns]"
            ],
            "text/html": [
              "\n",
              "  <div id=\"df-76e38af1-7488-4656-96a9-9cc6abe685ce\">\n",
              "    <div class=\"colab-df-container\">\n",
              "      <div>\n",
              "<style scoped>\n",
              "    .dataframe tbody tr th:only-of-type {\n",
              "        vertical-align: middle;\n",
              "    }\n",
              "\n",
              "    .dataframe tbody tr th {\n",
              "        vertical-align: top;\n",
              "    }\n",
              "\n",
              "    .dataframe thead th {\n",
              "        text-align: right;\n",
              "    }\n",
              "</style>\n",
              "<table border=\"1\" class=\"dataframe\">\n",
              "  <thead>\n",
              "    <tr style=\"text-align: right;\">\n",
              "      <th></th>\n",
              "      <th>age</th>\n",
              "      <th>hypertension</th>\n",
              "      <th>heart_disease</th>\n",
              "      <th>smoking_history</th>\n",
              "      <th>bmi</th>\n",
              "      <th>HbA1c_level</th>\n",
              "      <th>blood_glucose_level</th>\n",
              "      <th>diabetes</th>\n",
              "      <th>Female</th>\n",
              "      <th>Male</th>\n",
              "    </tr>\n",
              "  </thead>\n",
              "  <tbody>\n",
              "    <tr>\n",
              "      <th>0</th>\n",
              "      <td>80</td>\n",
              "      <td>0</td>\n",
              "      <td>1</td>\n",
              "      <td>4</td>\n",
              "      <td>25.19</td>\n",
              "      <td>6.6</td>\n",
              "      <td>140</td>\n",
              "      <td>0</td>\n",
              "      <td>1</td>\n",
              "      <td>0</td>\n",
              "    </tr>\n",
              "    <tr>\n",
              "      <th>1</th>\n",
              "      <td>54</td>\n",
              "      <td>0</td>\n",
              "      <td>0</td>\n",
              "      <td>0</td>\n",
              "      <td>27.32</td>\n",
              "      <td>6.6</td>\n",
              "      <td>80</td>\n",
              "      <td>0</td>\n",
              "      <td>1</td>\n",
              "      <td>0</td>\n",
              "    </tr>\n",
              "    <tr>\n",
              "      <th>2</th>\n",
              "      <td>28</td>\n",
              "      <td>0</td>\n",
              "      <td>0</td>\n",
              "      <td>4</td>\n",
              "      <td>27.32</td>\n",
              "      <td>5.7</td>\n",
              "      <td>158</td>\n",
              "      <td>0</td>\n",
              "      <td>0</td>\n",
              "      <td>1</td>\n",
              "    </tr>\n",
              "    <tr>\n",
              "      <th>3</th>\n",
              "      <td>36</td>\n",
              "      <td>0</td>\n",
              "      <td>0</td>\n",
              "      <td>1</td>\n",
              "      <td>23.45</td>\n",
              "      <td>5.0</td>\n",
              "      <td>155</td>\n",
              "      <td>0</td>\n",
              "      <td>1</td>\n",
              "      <td>0</td>\n",
              "    </tr>\n",
              "    <tr>\n",
              "      <th>4</th>\n",
              "      <td>76</td>\n",
              "      <td>1</td>\n",
              "      <td>1</td>\n",
              "      <td>1</td>\n",
              "      <td>20.14</td>\n",
              "      <td>4.8</td>\n",
              "      <td>155</td>\n",
              "      <td>0</td>\n",
              "      <td>0</td>\n",
              "      <td>1</td>\n",
              "    </tr>\n",
              "    <tr>\n",
              "      <th>...</th>\n",
              "      <td>...</td>\n",
              "      <td>...</td>\n",
              "      <td>...</td>\n",
              "      <td>...</td>\n",
              "      <td>...</td>\n",
              "      <td>...</td>\n",
              "      <td>...</td>\n",
              "      <td>...</td>\n",
              "      <td>...</td>\n",
              "      <td>...</td>\n",
              "    </tr>\n",
              "    <tr>\n",
              "      <th>99995</th>\n",
              "      <td>80</td>\n",
              "      <td>0</td>\n",
              "      <td>0</td>\n",
              "      <td>0</td>\n",
              "      <td>27.32</td>\n",
              "      <td>6.2</td>\n",
              "      <td>90</td>\n",
              "      <td>0</td>\n",
              "      <td>1</td>\n",
              "      <td>0</td>\n",
              "    </tr>\n",
              "    <tr>\n",
              "      <th>99996</th>\n",
              "      <td>2</td>\n",
              "      <td>0</td>\n",
              "      <td>0</td>\n",
              "      <td>0</td>\n",
              "      <td>17.37</td>\n",
              "      <td>6.5</td>\n",
              "      <td>100</td>\n",
              "      <td>0</td>\n",
              "      <td>1</td>\n",
              "      <td>0</td>\n",
              "    </tr>\n",
              "    <tr>\n",
              "      <th>99997</th>\n",
              "      <td>66</td>\n",
              "      <td>0</td>\n",
              "      <td>0</td>\n",
              "      <td>3</td>\n",
              "      <td>27.83</td>\n",
              "      <td>5.7</td>\n",
              "      <td>155</td>\n",
              "      <td>0</td>\n",
              "      <td>0</td>\n",
              "      <td>1</td>\n",
              "    </tr>\n",
              "    <tr>\n",
              "      <th>99998</th>\n",
              "      <td>24</td>\n",
              "      <td>0</td>\n",
              "      <td>0</td>\n",
              "      <td>4</td>\n",
              "      <td>35.42</td>\n",
              "      <td>4.0</td>\n",
              "      <td>100</td>\n",
              "      <td>0</td>\n",
              "      <td>1</td>\n",
              "      <td>0</td>\n",
              "    </tr>\n",
              "    <tr>\n",
              "      <th>99999</th>\n",
              "      <td>57</td>\n",
              "      <td>0</td>\n",
              "      <td>0</td>\n",
              "      <td>1</td>\n",
              "      <td>22.43</td>\n",
              "      <td>6.6</td>\n",
              "      <td>90</td>\n",
              "      <td>0</td>\n",
              "      <td>1</td>\n",
              "      <td>0</td>\n",
              "    </tr>\n",
              "  </tbody>\n",
              "</table>\n",
              "<p>99982 rows × 10 columns</p>\n",
              "</div>\n",
              "      <button class=\"colab-df-convert\" onclick=\"convertToInteractive('df-76e38af1-7488-4656-96a9-9cc6abe685ce')\"\n",
              "              title=\"Convert this dataframe to an interactive table.\"\n",
              "              style=\"display:none;\">\n",
              "        \n",
              "  <svg xmlns=\"http://www.w3.org/2000/svg\" height=\"24px\"viewBox=\"0 0 24 24\"\n",
              "       width=\"24px\">\n",
              "    <path d=\"M0 0h24v24H0V0z\" fill=\"none\"/>\n",
              "    <path d=\"M18.56 5.44l.94 2.06.94-2.06 2.06-.94-2.06-.94-.94-2.06-.94 2.06-2.06.94zm-11 1L8.5 8.5l.94-2.06 2.06-.94-2.06-.94L8.5 2.5l-.94 2.06-2.06.94zm10 10l.94 2.06.94-2.06 2.06-.94-2.06-.94-.94-2.06-.94 2.06-2.06.94z\"/><path d=\"M17.41 7.96l-1.37-1.37c-.4-.4-.92-.59-1.43-.59-.52 0-1.04.2-1.43.59L10.3 9.45l-7.72 7.72c-.78.78-.78 2.05 0 2.83L4 21.41c.39.39.9.59 1.41.59.51 0 1.02-.2 1.41-.59l7.78-7.78 2.81-2.81c.8-.78.8-2.07 0-2.86zM5.41 20L4 18.59l7.72-7.72 1.47 1.35L5.41 20z\"/>\n",
              "  </svg>\n",
              "      </button>\n",
              "      \n",
              "  <style>\n",
              "    .colab-df-container {\n",
              "      display:flex;\n",
              "      flex-wrap:wrap;\n",
              "      gap: 12px;\n",
              "    }\n",
              "\n",
              "    .colab-df-convert {\n",
              "      background-color: #E8F0FE;\n",
              "      border: none;\n",
              "      border-radius: 50%;\n",
              "      cursor: pointer;\n",
              "      display: none;\n",
              "      fill: #1967D2;\n",
              "      height: 32px;\n",
              "      padding: 0 0 0 0;\n",
              "      width: 32px;\n",
              "    }\n",
              "\n",
              "    .colab-df-convert:hover {\n",
              "      background-color: #E2EBFA;\n",
              "      box-shadow: 0px 1px 2px rgba(60, 64, 67, 0.3), 0px 1px 3px 1px rgba(60, 64, 67, 0.15);\n",
              "      fill: #174EA6;\n",
              "    }\n",
              "\n",
              "    [theme=dark] .colab-df-convert {\n",
              "      background-color: #3B4455;\n",
              "      fill: #D2E3FC;\n",
              "    }\n",
              "\n",
              "    [theme=dark] .colab-df-convert:hover {\n",
              "      background-color: #434B5C;\n",
              "      box-shadow: 0px 1px 3px 1px rgba(0, 0, 0, 0.15);\n",
              "      filter: drop-shadow(0px 1px 2px rgba(0, 0, 0, 0.3));\n",
              "      fill: #FFFFFF;\n",
              "    }\n",
              "  </style>\n",
              "\n",
              "      <script>\n",
              "        const buttonEl =\n",
              "          document.querySelector('#df-76e38af1-7488-4656-96a9-9cc6abe685ce button.colab-df-convert');\n",
              "        buttonEl.style.display =\n",
              "          google.colab.kernel.accessAllowed ? 'block' : 'none';\n",
              "\n",
              "        async function convertToInteractive(key) {\n",
              "          const element = document.querySelector('#df-76e38af1-7488-4656-96a9-9cc6abe685ce');\n",
              "          const dataTable =\n",
              "            await google.colab.kernel.invokeFunction('convertToInteractive',\n",
              "                                                     [key], {});\n",
              "          if (!dataTable) return;\n",
              "\n",
              "          const docLinkHtml = 'Like what you see? Visit the ' +\n",
              "            '<a target=\"_blank\" href=https://colab.research.google.com/notebooks/data_table.ipynb>data table notebook</a>'\n",
              "            + ' to learn more about interactive tables.';\n",
              "          element.innerHTML = '';\n",
              "          dataTable['output_type'] = 'display_data';\n",
              "          await google.colab.output.renderOutput(dataTable, element);\n",
              "          const docLink = document.createElement('div');\n",
              "          docLink.innerHTML = docLinkHtml;\n",
              "          element.appendChild(docLink);\n",
              "        }\n",
              "      </script>\n",
              "    </div>\n",
              "  </div>\n",
              "  "
            ]
          },
          "metadata": {},
          "execution_count": 9
        }
      ]
    },
    {
      "cell_type": "code",
      "source": [
        "cols = df.columns.tolist()\n",
        "cols.remove('diabetes')\n",
        "df=df[cols+['diabetes']]"
      ],
      "metadata": {
        "id": "b6Cvz2wJcrG-"
      },
      "id": "b6Cvz2wJcrG-",
      "execution_count": 10,
      "outputs": []
    },
    {
      "cell_type": "code",
      "source": [
        "X=df.iloc[:,:-1]\n",
        "y=df.iloc[:,-1]"
      ],
      "metadata": {
        "id": "o4da0x4ycsiU"
      },
      "id": "o4da0x4ycsiU",
      "execution_count": 11,
      "outputs": []
    },
    {
      "cell_type": "markdown",
      "metadata": {
        "id": "af8fbafb"
      },
      "source": [
        "## **2단계 : 모델링**"
      ],
      "id": "af8fbafb"
    },
    {
      "cell_type": "markdown",
      "source": [
        "### train_test_split"
      ],
      "metadata": {
        "id": "vD1s_T0bEnLz"
      },
      "id": "vD1s_T0bEnLz"
    },
    {
      "cell_type": "code",
      "source": [
        "from sklearn.preprocessing import StandardScaler\n",
        "scaler = StandardScaler()\n",
        "scaler.fit(X)\n",
        "X = scaler.transform(X)"
      ],
      "metadata": {
        "id": "GeTxvrwu8tis"
      },
      "id": "GeTxvrwu8tis",
      "execution_count": 12,
      "outputs": []
    },
    {
      "cell_type": "code",
      "execution_count": 13,
      "metadata": {
        "id": "4b870624"
      },
      "outputs": [],
      "source": [
        "from sklearn.model_selection import train_test_split\n",
        "X_train, X_test, y_train, y_test = train_test_split(X, y, test_size=0.2, random_state=0)"
      ],
      "id": "4b870624"
    },
    {
      "cell_type": "markdown",
      "source": [
        "### 오버샘플링"
      ],
      "metadata": {
        "id": "B5MGD-lBqiGZ"
      },
      "id": "B5MGD-lBqiGZ"
    },
    {
      "cell_type": "code",
      "source": [
        "#오버샘플링\n",
        "from imblearn.over_sampling import SMOTE\n",
        "\n",
        "smote=SMOTE(random_state=42)\n",
        "X_train_over, y_train_over=smote.fit_resample(X_train,y_train)\n",
        "y_train_over.value_counts()"
      ],
      "metadata": {
        "id": "P9Faw0vTD5zD",
        "colab": {
          "base_uri": "https://localhost:8080/"
        },
        "outputId": "f9d72a04-ee52-4242-ef25-c68a09287f32"
      },
      "id": "P9Faw0vTD5zD",
      "execution_count": 14,
      "outputs": [
        {
          "output_type": "execute_result",
          "data": {
            "text/plain": [
              "0    73193\n",
              "1    73193\n",
              "Name: diabetes, dtype: int64"
            ]
          },
          "metadata": {},
          "execution_count": 14
        }
      ]
    },
    {
      "cell_type": "markdown",
      "source": [
        "#### Logistic Regression"
      ],
      "metadata": {
        "id": "foCHp1WTxUo8"
      },
      "id": "foCHp1WTxUo8"
    },
    {
      "cell_type": "code",
      "source": [
        "from sklearn.metrics import classification_report,f1_score\n",
        "from sklearn.linear_model import LogisticRegression\n",
        "\n",
        "lr = LogisticRegression()\n",
        "lr.fit(X_train_over, y_train_over)\n",
        "\n",
        "lr_y_train_pred = lr.predict(X_train_over)\n",
        "lr_y_test_pred = lr.predict(X_test)\n",
        "\n",
        "print(classification_report(y_train_over, lr_y_train_pred))\n",
        "print(classification_report(y_test, lr_y_test_pred))\n",
        "print(recall_score(y_train_over, lr_y_train_pred))\n",
        "print(recall_score(y_test, lr_y_test_pred))\n",
        "print(f1_score(y_train_over, lr_y_train_pred))\n",
        "print(f1_score(y_test, lr_y_test_pred))\n",
        "\n",
        "'''\n",
        "print(\"train:\", lr.score(X_train_over, y_train_over))\n",
        "print(\"test: \", lr.score(X_test, y_test))\n",
        "'''"
      ],
      "metadata": {
        "colab": {
          "base_uri": "https://localhost:8080/",
          "height": 441
        },
        "id": "VGXfyk8lwm78",
        "outputId": "19f06067-6c53-43ad-8d9a-40bf00a9e5e3"
      },
      "id": "VGXfyk8lwm78",
      "execution_count": 22,
      "outputs": [
        {
          "output_type": "stream",
          "name": "stdout",
          "text": [
            "              precision    recall  f1-score   support\n",
            "\n",
            "           0       0.88      0.89      0.88     73193\n",
            "           1       0.89      0.88      0.88     73193\n",
            "\n",
            "    accuracy                           0.88    146386\n",
            "   macro avg       0.88      0.88      0.88    146386\n",
            "weighted avg       0.88      0.88      0.88    146386\n",
            "\n",
            "              precision    recall  f1-score   support\n",
            "\n",
            "           0       0.99      0.89      0.93     18289\n",
            "           1       0.42      0.89      0.57      1708\n",
            "\n",
            "    accuracy                           0.89     19997\n",
            "   macro avg       0.70      0.89      0.75     19997\n",
            "weighted avg       0.94      0.89      0.90     19997\n",
            "\n",
            "0.8828303253043324\n",
            "0.8905152224824356\n",
            "0.8844435015295752\n",
            "0.5709459459459459\n"
          ]
        },
        {
          "output_type": "execute_result",
          "data": {
            "text/plain": [
              "'\\nprint(\"train:\", lr.score(X_train_over, y_train_over))\\nprint(\"test: \", lr.score(X_test, y_test))\\n'"
            ],
            "application/vnd.google.colaboratory.intrinsic+json": {
              "type": "string"
            }
          },
          "metadata": {},
          "execution_count": 22
        }
      ]
    },
    {
      "cell_type": "code",
      "source": [
        "from sklearn.metrics import roc_auc_score\n",
        "\n",
        "prediction_train = lr.predict(X_train_over)\n",
        "prediction_test = lr.predict(X_test)\n",
        "\n",
        "print('roc auc value train : {}'.format(roc_auc_score(y_train_over,prediction_train))) \n",
        "print('roc auc value test: {}'.format(roc_auc_score(y_test,prediction_test)))"
      ],
      "metadata": {
        "colab": {
          "base_uri": "https://localhost:8080/"
        },
        "id": "hLehvPvyAmlO",
        "outputId": "2b4bfa3f-d02e-4945-8d32-1ea09e08fcc3"
      },
      "id": "hLehvPvyAmlO",
      "execution_count": null,
      "outputs": [
        {
          "output_type": "stream",
          "name": "stdout",
          "text": [
            "roc auc value train : 0.8846542702170972\n",
            "roc auc value test: 0.8878733912182533\n"
          ]
        }
      ]
    },
    {
      "cell_type": "markdown",
      "source": [
        "#### Random Forest\n"
      ],
      "metadata": {
        "id": "cWFhE1RI2lv8"
      },
      "id": "cWFhE1RI2lv8"
    },
    {
      "cell_type": "code",
      "source": [
        "from sklearn.metrics import classification_report,confusion_matrix, recall_score\n",
        "from sklearn.ensemble import RandomForestClassifier\n",
        "\n",
        "rf = RandomForestClassifier()\n",
        "\n",
        "rf.fit(X_train_over , y_train_over)\n",
        "\n",
        "rf_y_train_pred = rf.predict(X_train_over)\n",
        "rf_y_test_pred = rf.predict(X_test)\n",
        "\n",
        "print(classification_report(y_train_over, rf_y_train_pred))\n",
        "print(classification_report(y_test, rf_y_test_pred))\n",
        "print(recall_score(y_train_over, rf_y_train_pred))\n",
        "print(recall_score(y_test, rf_y_test_pred))\n",
        "\n",
        "print(f1_score(y_train_over, rf_y_train_pred))\n",
        "print(f1_score(y_test, rf_y_test_pred))"
      ],
      "metadata": {
        "colab": {
          "base_uri": "https://localhost:8080/"
        },
        "id": "IJT47SnF4XC-",
        "outputId": "7ed15473-91c4-44ee-f3d5-d6d0a26e3296"
      },
      "id": "IJT47SnF4XC-",
      "execution_count": 21,
      "outputs": [
        {
          "output_type": "stream",
          "name": "stdout",
          "text": [
            "              precision    recall  f1-score   support\n",
            "\n",
            "           0       1.00      1.00      1.00     73193\n",
            "           1       1.00      1.00      1.00     73193\n",
            "\n",
            "    accuracy                           1.00    146386\n",
            "   macro avg       1.00      1.00      1.00    146386\n",
            "weighted avg       1.00      1.00      1.00    146386\n",
            "\n",
            "              precision    recall  f1-score   support\n",
            "\n",
            "           0       0.98      0.98      0.98     18289\n",
            "           1       0.79      0.74      0.77      1708\n",
            "\n",
            "    accuracy                           0.96     19997\n",
            "   macro avg       0.88      0.86      0.87     19997\n",
            "weighted avg       0.96      0.96      0.96     19997\n",
            "\n",
            "0.9993441995819272\n",
            "0.7447306791569087\n",
            "0.9995763638351371\n",
            "0.7669580946638529\n"
          ]
        }
      ]
    },
    {
      "cell_type": "code",
      "source": [
        "from sklearn.metrics import roc_auc_score\n",
        "\n",
        "prediction_train = rf.predict(X_train_over)\n",
        "prediction_test = rf.predict(X_test)\n",
        "\n",
        "print('roc auc value train : {}'.format(roc_auc_score(y_train_over,prediction_train))) \n",
        "print('roc auc value test: {}'.format(roc_auc_score(y_test,prediction_test)))"
      ],
      "metadata": {
        "colab": {
          "base_uri": "https://localhost:8080/"
        },
        "id": "-bEFNZV_3jUN",
        "outputId": "f3d31184-48d0-4b72-eb8e-c1dd1bcd61c6"
      },
      "id": "-bEFNZV_3jUN",
      "execution_count": null,
      "outputs": [
        {
          "output_type": "stream",
          "name": "stdout",
          "text": [
            "roc auc value train : 0.9995764622299949\n",
            "roc auc value test: 0.8617978064392374\n"
          ]
        }
      ]
    },
    {
      "cell_type": "markdown",
      "source": [
        "#### SVM"
      ],
      "metadata": {
        "id": "6t5kseWSusci"
      },
      "id": "6t5kseWSusci"
    },
    {
      "cell_type": "code",
      "source": [
        "from sklearn.svm import SVC\n",
        "from sklearn.metrics import accuracy_score, recall_score\n",
        "\n",
        "svm = SVC()\n",
        "svm.fit(X_train_over, y_train_over)\n",
        "\n",
        "svm_y_train_pred = svm.predict(X_train_over)\n",
        "svm_y_test_pred = svm.predict(X_test)\n",
        "\n",
        "print(classification_report(y_train_over, svm_y_train_pred))\n",
        "print(classification_report(y_test, svm_y_test_pred))"
      ],
      "metadata": {
        "colab": {
          "base_uri": "https://localhost:8080/"
        },
        "id": "dIhHFSq26Nm0",
        "outputId": "4e8d479e-46d7-4cf6-e017-edcf76fc9407"
      },
      "id": "dIhHFSq26Nm0",
      "execution_count": null,
      "outputs": [
        {
          "output_type": "stream",
          "name": "stdout",
          "text": [
            "              precision    recall  f1-score   support\n",
            "\n",
            "           0       0.92      0.89      0.90     73193\n",
            "           1       0.89      0.92      0.91     73193\n",
            "\n",
            "    accuracy                           0.90    146386\n",
            "   macro avg       0.90      0.90      0.90    146386\n",
            "weighted avg       0.90      0.90      0.90    146386\n",
            "\n",
            "              precision    recall  f1-score   support\n",
            "\n",
            "           0       0.99      0.89      0.94     18289\n",
            "           1       0.44      0.92      0.59      1708\n",
            "\n",
            "    accuracy                           0.89     19997\n",
            "   macro avg       0.72      0.90      0.77     19997\n",
            "weighted avg       0.94      0.89      0.91     19997\n",
            "\n"
          ]
        }
      ]
    },
    {
      "cell_type": "code",
      "source": [
        "from sklearn.metrics import roc_auc_score\n",
        "\n",
        "prediction_train = svm.predict(X_train_over)\n",
        "prediction_test = svm.predict(X_test)\n",
        "\n",
        "print('roc auc value train : {}'.format(roc_auc_score(y_train_over,prediction_train))) \n",
        "print('roc auc value test: {}'.format(roc_auc_score(y_test,prediction_test)))"
      ],
      "metadata": {
        "colab": {
          "base_uri": "https://localhost:8080/"
        },
        "id": "oVvz2wa90iF6",
        "outputId": "e93ee358-c727-44fe-a60c-9bb008502eda"
      },
      "id": "oVvz2wa90iF6",
      "execution_count": null,
      "outputs": [
        {
          "output_type": "stream",
          "name": "stdout",
          "text": [
            "roc auc value train : 0.9043146202505703\n",
            "roc auc value test: 0.9047134748968647\n"
          ]
        }
      ]
    },
    {
      "cell_type": "markdown",
      "source": [
        "### 언더샘플링"
      ],
      "metadata": {
        "id": "o1FxDbYrlDkg"
      },
      "id": "o1FxDbYrlDkg"
    },
    {
      "cell_type": "code",
      "source": [
        "#언더샘플링\n",
        "\n",
        "from imblearn.under_sampling import RandomUnderSampler\n",
        "\n",
        "max_dia=df[df['diabetes']==1]\n",
        "min_dia=df[df['diabetes']==0]\n",
        "undersample=RandomUnderSampler(random_state=42)\n",
        "X_train_under, y_train_under=undersample.fit_resample(X_train,y_train)\n",
        "y_train_under.value_counts()"
      ],
      "metadata": {
        "colab": {
          "base_uri": "https://localhost:8080/"
        },
        "id": "xKMz0nGUlDNK",
        "outputId": "144b7d63-ce32-4bf1-f040-e79554d5ea36"
      },
      "id": "xKMz0nGUlDNK",
      "execution_count": 23,
      "outputs": [
        {
          "output_type": "execute_result",
          "data": {
            "text/plain": [
              "0    6792\n",
              "1    6792\n",
              "Name: diabetes, dtype: int64"
            ]
          },
          "metadata": {},
          "execution_count": 23
        }
      ]
    },
    {
      "cell_type": "markdown",
      "metadata": {
        "id": "8ce7aa55"
      },
      "source": [
        "#### Logistics Regression"
      ],
      "id": "8ce7aa55"
    },
    {
      "cell_type": "code",
      "source": [
        "from sklearn.metrics import recall_score, precision_score, classification_report, f1_score\n",
        "from sklearn.linear_model import LogisticRegression\n",
        "\n",
        "lr = LogisticRegression()\n",
        "lr.fit(X_train_under, y_train_under)\n",
        "\n",
        "y_train_pred = lr.predict(X_train_under)\n",
        "y_test_pred = lr.predict(X_test)\n",
        "\n",
        "print(\"recall_train:\", recall_score(y_train_under, y_train_pred))\n",
        "print(\"recall_test: \", recall_score(y_test, y_test_pred))\n",
        "\n",
        "print(\"precision_train:\", precision_score(y_train_under, y_train_pred))\n",
        "print(\"precision_test: \", precision_score(y_test, y_test_pred))\n",
        "\n",
        "\n",
        "print(classification_report(y_train_under, y_train_pred))\n",
        "print(classification_report(y_test, y_test_pred))\n",
        "\n",
        "print(f1_score(y_train_under, y_train_pred))\n",
        "print(f1_score(y_test, y_test_pred))\n",
        "\n",
        "'''\n",
        "print(\"train:\", lr.score(X_train_over, y_train_over))\n",
        "print(\"test: \", lr.score(X_test, y_test))\n",
        "'''"
      ],
      "metadata": {
        "colab": {
          "base_uri": "https://localhost:8080/",
          "height": 478
        },
        "id": "CvnlgIeGlKDm",
        "outputId": "748614fa-de21-47e1-8dd4-89a1123a0abd"
      },
      "id": "CvnlgIeGlKDm",
      "execution_count": 29,
      "outputs": [
        {
          "output_type": "stream",
          "name": "stdout",
          "text": [
            "recall_train: 0.8825088339222615\n",
            "recall_test:  0.8916861826697893\n",
            "precision_train: 0.8893175074183977\n",
            "precision_test:  0.416120218579235\n",
            "              precision    recall  f1-score   support\n",
            "\n",
            "           0       0.88      0.89      0.89      6792\n",
            "           1       0.89      0.88      0.89      6792\n",
            "\n",
            "    accuracy                           0.89     13584\n",
            "   macro avg       0.89      0.89      0.89     13584\n",
            "weighted avg       0.89      0.89      0.89     13584\n",
            "\n",
            "              precision    recall  f1-score   support\n",
            "\n",
            "           0       0.99      0.88      0.93     18289\n",
            "           1       0.42      0.89      0.57      1708\n",
            "\n",
            "    accuracy                           0.88     19997\n",
            "   macro avg       0.70      0.89      0.75     19997\n",
            "weighted avg       0.94      0.88      0.90     19997\n",
            "\n",
            "0.8859000886786876\n",
            "0.5674366616989568\n"
          ]
        },
        {
          "output_type": "execute_result",
          "data": {
            "text/plain": [
              "'\\nprint(\"train:\", lr.score(X_train_over, y_train_over))\\nprint(\"test: \", lr.score(X_test, y_test))\\n'"
            ],
            "application/vnd.google.colaboratory.intrinsic+json": {
              "type": "string"
            }
          },
          "metadata": {},
          "execution_count": 29
        }
      ]
    },
    {
      "cell_type": "code",
      "source": [
        "from sklearn.metrics import roc_auc_score\n",
        "\n",
        "from sklearn.linear_model import LogisticRegression\n",
        "\n",
        "\n",
        "\n",
        "# 위 코드 확인 후\n",
        "\n",
        "# 로지스틱 회귀\n",
        "\n",
        "lr_model = LogisticRegression()\n",
        "\n",
        "lr_model.fit(X_train_under,y_train_under)\n",
        "\n",
        "prediction_train = lr_model.predict(X_train_under)\n",
        "prediction_test = lr_model.predict(X_test)\n",
        "\n",
        "print('roc auc value {}'.format(roc_auc_score(y_train_under,prediction_train))) \n",
        "print('roc auc value {}'.format(roc_auc_score(y_test,prediction_test))) # 이  value는 auc에 대한 면적을 나타낸 것이다.\n",
        "\n",
        "# display_eval(y_test,prediction)"
      ],
      "metadata": {
        "colab": {
          "base_uri": "https://localhost:8080/"
        },
        "id": "Bp_g_sER-E3k",
        "outputId": "d3d2d2b3-d6e0-4ba8-fdd7-c09b442e508c"
      },
      "id": "Bp_g_sER-E3k",
      "execution_count": null,
      "outputs": [
        {
          "output_type": "stream",
          "name": "stdout",
          "text": [
            "roc auc value 0.886336866902238\n",
            "roc auc value 0.8874199954849301\n"
          ]
        }
      ]
    },
    {
      "cell_type": "markdown",
      "source": [
        "#### Random Forest"
      ],
      "metadata": {
        "id": "WNVWAuo8E9pN"
      },
      "id": "WNVWAuo8E9pN"
    },
    {
      "cell_type": "code",
      "source": [
        "from sklearn.metrics import classification_report,confusion_matrix\n",
        "from sklearn.ensemble import RandomForestClassifier\n",
        "\n",
        "rf = RandomForestClassifier()\n",
        "\n",
        "rf.fit(X_train_under , y_train_under)\n",
        "\n",
        "rf_y_train_pred = rf.predict(X_train_under)\n",
        "rf_y_test_pred = rf.predict(X_test)\n",
        "\n",
        "print(classification_report(y_train_under, rf_y_train_pred))\n",
        "print(classification_report(y_test, rf_y_test_pred))"
      ],
      "metadata": {
        "id": "N6_B1HISE9YU",
        "colab": {
          "base_uri": "https://localhost:8080/"
        },
        "outputId": "ba911dec-60eb-4512-fd08-d10a0114a033"
      },
      "id": "N6_B1HISE9YU",
      "execution_count": null,
      "outputs": [
        {
          "output_type": "stream",
          "name": "stdout",
          "text": [
            "              precision    recall  f1-score   support\n",
            "\n",
            "           0       1.00      1.00      1.00      6792\n",
            "           1       1.00      1.00      1.00      6792\n",
            "\n",
            "    accuracy                           1.00     13584\n",
            "   macro avg       1.00      1.00      1.00     13584\n",
            "weighted avg       1.00      1.00      1.00     13584\n",
            "\n",
            "              precision    recall  f1-score   support\n",
            "\n",
            "           0       0.99      0.90      0.94     18289\n",
            "           1       0.45      0.92      0.61      1708\n",
            "\n",
            "    accuracy                           0.90     19997\n",
            "   macro avg       0.72      0.91      0.77     19997\n",
            "weighted avg       0.95      0.90      0.91     19997\n",
            "\n"
          ]
        }
      ]
    },
    {
      "cell_type": "markdown",
      "source": [
        "### SVM"
      ],
      "metadata": {
        "id": "oBPx4PGJ5fKw"
      },
      "id": "oBPx4PGJ5fKw"
    },
    {
      "cell_type": "code",
      "source": [
        "from sklearn.svm import SVC\n",
        "from sklearn.metrics import accuracy_score, recall_score, roc_auc_score\n",
        "from sklearn.model_selection import cross_val_score, KFold\n",
        "\n",
        "svm = SVC()\n",
        "kfold = KFold(n_splits=5, shuffle=True, random_state=42)\n",
        "\n",
        "svm.fit(X_train_under, y_train_under)\n",
        "\n",
        "svm_y_train_pred = svm.predict(X_train_under)\n",
        "svm_y_test_pred = svm.predict(X_test)\n",
        "\n",
        "cv_scores = cross_val_score(svm, X_train_under, y_train_under, cv=kfold, scoring='accuracy')\n",
        "\n",
        "# 교차 검증 결과 출력\n",
        "print(\"교차 검증 정확도: \", cv_scores)\n",
        "print(\"평균 정확도: \", cv_scores.mean())\n",
        "\n",
        "\n",
        "print(classification_report(y_train_under, svm_y_train_pred))\n",
        "print(classification_report(y_test, svm_y_test_pred))\n",
        "\n",
        "print(f1_score(y_train_under, svm_y_train_pred))\n",
        "print(f1_score(y_test, svm_y_test_pred))\n",
        "\n",
        "\"\"\"\n",
        "print(classification_report(y_train_under, svm_y_train_pred))\n",
        "print(classification_report(y_test, svm_y_test_pred))\n",
        "\n",
        "print('roc auc value train : {}'.format(roc_auc_score(y_train_under,svm_y_train_pred))) \n",
        "print('roc auc value test: {}'.format(roc_auc_score(y_test,svm_y_test_pred)))\"\"\""
      ],
      "metadata": {
        "colab": {
          "base_uri": "https://localhost:8080/",
          "height": 478
        },
        "id": "PWMhUi-g_U68",
        "outputId": "afdee614-51d8-423f-bc5e-35660da89c5a"
      },
      "id": "PWMhUi-g_U68",
      "execution_count": 30,
      "outputs": [
        {
          "output_type": "stream",
          "name": "stdout",
          "text": [
            "교차 검증 정확도:  [0.90283401 0.89400074 0.89657711 0.89252852 0.89874816]\n",
            "평균 정확도:  0.8969377068942995\n",
            "              precision    recall  f1-score   support\n",
            "\n",
            "           0       0.90      0.89      0.90      6792\n",
            "           1       0.89      0.91      0.90      6792\n",
            "\n",
            "    accuracy                           0.90     13584\n",
            "   macro avg       0.90      0.90      0.90     13584\n",
            "weighted avg       0.90      0.90      0.90     13584\n",
            "\n",
            "              precision    recall  f1-score   support\n",
            "\n",
            "           0       0.99      0.89      0.94     18289\n",
            "           1       0.43      0.91      0.58      1708\n",
            "\n",
            "    accuracy                           0.89     19997\n",
            "   macro avg       0.71      0.90      0.76     19997\n",
            "weighted avg       0.94      0.89      0.91     19997\n",
            "\n",
            "0.8997733752467286\n",
            "0.584777694046722\n"
          ]
        },
        {
          "output_type": "execute_result",
          "data": {
            "text/plain": [
              "\"\\nprint(classification_report(y_train_under, svm_y_train_pred))\\nprint(classification_report(y_test, svm_y_test_pred))\\n\\nprint('roc auc value train : {}'.format(roc_auc_score(y_train_under,svm_y_train_pred))) \\nprint('roc auc value test: {}'.format(roc_auc_score(y_test,svm_y_test_pred)))\""
            ],
            "application/vnd.google.colaboratory.intrinsic+json": {
              "type": "string"
            }
          },
          "metadata": {},
          "execution_count": 30
        }
      ]
    },
    {
      "cell_type": "code",
      "source": [
        "from sklearn.svm import SVC\n",
        "from sklearn.metrics import accuracy_score, recall_score\n",
        "from sklearn.metrics import roc_auc_score\n",
        "\n",
        "svm = SVC(kernel='linear') \n",
        "kfold = KFold(n_splits=5, shuffle=True, random_state=42)\n",
        "svm.fit(X_train_under, y_train_under)\n",
        "\n",
        "svm_y_train_pred = svm.predict(X_train_under)\n",
        "svm_y_test_pred = svm.predict(X_test)\n",
        "\n",
        "cv_scores = cross_val_score(svm, X_train_under, y_train_under, cv=kfold, scoring='accuracy')\n",
        "\n",
        "# 교차 검증 결과 출력\n",
        "print(\"교차 검증 정확도: \", cv_scores)\n",
        "print(\"평균 정확도: \", cv_scores.mean())\n",
        "\n",
        "print(classification_report(y_train_under, svm_y_train_pred))\n",
        "print(classification_report(y_test, svm_y_test_pred))\n",
        "\n",
        "print(f1_score(y_train_under, svm_y_train_pred))\n",
        "print(f1_score(y_test, svm_y_test_pred))\n",
        "\n",
        "\n",
        "\"\"\"print(classification_report(y_train_under, svm_y_train_pred))\n",
        "print(classification_report(y_test, svm_y_test_pred))\n",
        "\n",
        "print('roc auc value train : {}'.format(roc_auc_score(y_train_under,svm_y_train_pred))) \n",
        "print('roc auc value test: {}'.format(roc_auc_score(y_test,svm_y_test_pred)))\"\"\""
      ],
      "metadata": {
        "colab": {
          "base_uri": "https://localhost:8080/",
          "height": 478
        },
        "id": "aiyjfukiAMRL",
        "outputId": "818789c4-f57c-45f5-e5bf-040a354f69b1"
      },
      "id": "aiyjfukiAMRL",
      "execution_count": 31,
      "outputs": [
        {
          "output_type": "stream",
          "name": "stdout",
          "text": [
            "교차 검증 정확도:  [0.89289658 0.8895841  0.88479941 0.8778064  0.89064801]\n",
            "평균 정확도:  0.8871469008473893\n",
            "              precision    recall  f1-score   support\n",
            "\n",
            "           0       0.89      0.89      0.89      6792\n",
            "           1       0.89      0.89      0.89      6792\n",
            "\n",
            "    accuracy                           0.89     13584\n",
            "   macro avg       0.89      0.89      0.89     13584\n",
            "weighted avg       0.89      0.89      0.89     13584\n",
            "\n",
            "              precision    recall  f1-score   support\n",
            "\n",
            "           0       0.99      0.88      0.93     18289\n",
            "           1       0.41      0.90      0.56      1708\n",
            "\n",
            "    accuracy                           0.88     19997\n",
            "   macro avg       0.70      0.89      0.75     19997\n",
            "weighted avg       0.94      0.88      0.90     19997\n",
            "\n",
            "0.8874659601089276\n",
            "0.5646885366752672\n"
          ]
        },
        {
          "output_type": "execute_result",
          "data": {
            "text/plain": [
              "\"print(classification_report(y_train_under, svm_y_train_pred))\\nprint(classification_report(y_test, svm_y_test_pred))\\n\\nprint('roc auc value train : {}'.format(roc_auc_score(y_train_under,svm_y_train_pred))) \\nprint('roc auc value test: {}'.format(roc_auc_score(y_test,svm_y_test_pred)))\""
            ],
            "application/vnd.google.colaboratory.intrinsic+json": {
              "type": "string"
            }
          },
          "metadata": {},
          "execution_count": 31
        }
      ]
    },
    {
      "cell_type": "code",
      "source": [
        "from sklearn.svm import SVC\n",
        "from sklearn.metrics import accuracy_score, recall_score\n",
        "from sklearn.metrics import roc_auc_score\n",
        "\n",
        "\n",
        "svm = SVC(kernel = 'poly') \n",
        "kfold = KFold(n_splits=5, shuffle=True, random_state=42)\n",
        "svm.fit(X_train_under, y_train_under)\n",
        "\n",
        "svm_y_train_pred = svm.predict(X_train_under)\n",
        "svm_y_test_pred = svm.predict(X_test)\n",
        "\n",
        "cv_scores = cross_val_score(svm, X_train_under, y_train_under, cv=kfold, scoring='accuracy')\n",
        "\n",
        "# 교차 검증 결과 출력\n",
        "print(\"교차 검증 정확도: \", cv_scores)\n",
        "print(\"평균 정확도: \", cv_scores.mean())\n",
        "\n",
        "print(classification_report(y_train_under, svm_y_train_pred))\n",
        "print(classification_report(y_test, svm_y_test_pred))\n",
        "\n",
        "print(f1_score(y_train_under, svm_y_train_pred))\n",
        "print(f1_score(y_test, svm_y_test_pred))\n",
        "\n",
        "\n",
        "\"\"\"print(classification_report(y_train_under, svm_y_train_pred))\n",
        "print(classification_report(y_test, svm_y_test_pred))\n",
        "\n",
        "print('roc auc value train : {}'.format(roc_auc_score(y_train_under,svm_y_train_pred))) \n",
        "print('roc auc value test: {}'.format(roc_auc_score(y_test,svm_y_test_pred)))\"\"\""
      ],
      "metadata": {
        "colab": {
          "base_uri": "https://localhost:8080/",
          "height": 478
        },
        "id": "nAp5vdjxEq75",
        "outputId": "abae5158-45e0-43ba-d523-eda2bb3d7b96"
      },
      "id": "nAp5vdjxEq75",
      "execution_count": 32,
      "outputs": [
        {
          "output_type": "stream",
          "name": "stdout",
          "text": [
            "교차 검증 정확도:  [0.89768127 0.89252852 0.89473684 0.88700773 0.89948454]\n",
            "평균 정확도:  0.894287779502104\n",
            "              precision    recall  f1-score   support\n",
            "\n",
            "           0       0.88      0.91      0.90      6792\n",
            "           1       0.91      0.88      0.89      6792\n",
            "\n",
            "    accuracy                           0.90     13584\n",
            "   macro avg       0.90      0.90      0.90     13584\n",
            "weighted avg       0.90      0.90      0.90     13584\n",
            "\n",
            "              precision    recall  f1-score   support\n",
            "\n",
            "           0       0.99      0.91      0.95     18289\n",
            "           1       0.49      0.89      0.63      1708\n",
            "\n",
            "    accuracy                           0.91     19997\n",
            "   macro avg       0.74      0.90      0.79     19997\n",
            "weighted avg       0.95      0.91      0.92     19997\n",
            "\n",
            "0.8949696379038908\n",
            "0.6289620882535737\n"
          ]
        },
        {
          "output_type": "execute_result",
          "data": {
            "text/plain": [
              "\"print(classification_report(y_train_under, svm_y_train_pred))\\nprint(classification_report(y_test, svm_y_test_pred))\\n\\nprint('roc auc value train : {}'.format(roc_auc_score(y_train_under,svm_y_train_pred))) \\nprint('roc auc value test: {}'.format(roc_auc_score(y_test,svm_y_test_pred)))\""
            ],
            "application/vnd.google.colaboratory.intrinsic+json": {
              "type": "string"
            }
          },
          "metadata": {},
          "execution_count": 32
        }
      ]
    },
    {
      "cell_type": "code",
      "source": [
        "from sklearn.svm import SVC\n",
        "from sklearn.metrics import accuracy_score, recall_score\n",
        "from sklearn.metrics import roc_auc_score\n",
        "\n",
        "\n",
        "svm = SVC(kernel = 'rbf') \n",
        "kfold = KFold(n_splits=5, shuffle=True, random_state=42)\n",
        "svm.fit(X_train_under, y_train_under)\n",
        "\n",
        "svm_y_train_pred = svm.predict(X_train_under)\n",
        "svm_y_test_pred = svm.predict(X_test)\n",
        "\n",
        "\n",
        "cv_scores = cross_val_score(svm, X_train_under, y_train_under, cv=kfold, scoring='accuracy')\n",
        "\n",
        "# 교차 검증 결과 출력\n",
        "print(\"교차 검증 정확도: \", cv_scores)\n",
        "print(\"평균 정확도: \", cv_scores.mean())\n",
        "\n",
        "print(classification_report(y_train_under, svm_y_train_pred))\n",
        "print(classification_report(y_test, svm_y_test_pred))\n",
        "\n",
        "print(f1_score(y_train_under, svm_y_train_pred))\n",
        "print(f1_score(y_test, svm_y_test_pred))\n",
        "\n",
        "\"\"\"print(classification_report(y_train_under, svm_y_train_pred))\n",
        "print(classification_report(y_test, svm_y_test_pred))\n",
        "\n",
        "print('roc auc value train : {}'.format(roc_auc_score(y_train_under,svm_y_train_pred))) \n",
        "print('roc auc value test: {}'.format(roc_auc_score(y_test,svm_y_test_pred)))\"\"\"\n",
        "\n"
      ],
      "metadata": {
        "colab": {
          "base_uri": "https://localhost:8080/",
          "height": 478
        },
        "id": "P61c5AHSF4cQ",
        "outputId": "9f673693-427a-44bd-9f4c-c2ff752b3b6c"
      },
      "id": "P61c5AHSF4cQ",
      "execution_count": 33,
      "outputs": [
        {
          "output_type": "stream",
          "name": "stdout",
          "text": [
            "교차 검증 정확도:  [0.90283401 0.89400074 0.89657711 0.89252852 0.89874816]\n",
            "평균 정확도:  0.8969377068942995\n",
            "              precision    recall  f1-score   support\n",
            "\n",
            "           0       0.90      0.89      0.90      6792\n",
            "           1       0.89      0.91      0.90      6792\n",
            "\n",
            "    accuracy                           0.90     13584\n",
            "   macro avg       0.90      0.90      0.90     13584\n",
            "weighted avg       0.90      0.90      0.90     13584\n",
            "\n",
            "              precision    recall  f1-score   support\n",
            "\n",
            "           0       0.99      0.89      0.94     18289\n",
            "           1       0.43      0.91      0.58      1708\n",
            "\n",
            "    accuracy                           0.89     19997\n",
            "   macro avg       0.71      0.90      0.76     19997\n",
            "weighted avg       0.94      0.89      0.91     19997\n",
            "\n",
            "0.8997733752467286\n",
            "0.584777694046722\n"
          ]
        },
        {
          "output_type": "execute_result",
          "data": {
            "text/plain": [
              "\"print(classification_report(y_train_under, svm_y_train_pred))\\nprint(classification_report(y_test, svm_y_test_pred))\\n\\nprint('roc auc value train : {}'.format(roc_auc_score(y_train_under,svm_y_train_pred))) \\nprint('roc auc value test: {}'.format(roc_auc_score(y_test,svm_y_test_pred)))\""
            ],
            "application/vnd.google.colaboratory.intrinsic+json": {
              "type": "string"
            }
          },
          "metadata": {},
          "execution_count": 33
        }
      ]
    },
    {
      "cell_type": "code",
      "source": [
        "from sklearn.metrics import roc_auc_score\n",
        "\n",
        "prediction_train = svm.predict(X_train_under)\n",
        "prediction_test = svm.predict(X_test)\n",
        "\n",
        "print('roc auc value train : {}'.format(roc_auc_score(y_train_under,prediction_train))) \n",
        "print('roc auc value test: {}'.format(roc_auc_score(y_test,prediction_test)))"
      ],
      "metadata": {
        "colab": {
          "base_uri": "https://localhost:8080/"
        },
        "id": "adRMxhF55jwZ",
        "outputId": "b9853e83-bab6-401a-c90d-8156daea038c"
      },
      "id": "adRMxhF55jwZ",
      "execution_count": null,
      "outputs": [
        {
          "output_type": "stream",
          "name": "stdout",
          "text": [
            "roc auc value train : 0.8990724381625442\n",
            "roc auc value test: 0.8983426133854279\n"
          ]
        }
      ]
    },
    {
      "cell_type": "code",
      "source": [
        "import math\n",
        "import matplotlib.pyplot as plt\n",
        "\n",
        "def showplt(svm_y_train_pred,y_train_under,svm,title):\n",
        "\n",
        "    plt.scatter(svm_y_train_pred[:,0], svm_y_train_pred[:,1], c=y, s=30, cmap=plt.cm.Paired)\n",
        "\n",
        "    ax = plt.gca()\n",
        "    xlim = ax.get_xlim()\n",
        "    ylim = ax.get_ylim()\n",
        "\n",
        "    xx = np.linspace(xlim[0], xlim[1], 30)\n",
        "    yy = np.linspace(ylim[0], ylim[1], 30)\n",
        "    YY, XX = np.meshgrid(yy, xx)\n",
        "    xy = np.vstack([XX.ravel(), YY.ravel()]).T\n",
        "    Z = svm.decision_function(xy).reshape(XX.shape)\n",
        "\n",
        "    #margins,decision boundary\n",
        "    ax.contour(XX, YY, Z, colors='k', levels=[-1,0,1], alpha=0.5, linestyles=['--', '-', '--'])\n",
        "\n",
        "    #Support Vector\n",
        "    ax.scatter(svm.support_vectors_[:,0], svm.support_vectors_[:,1], s=60, facecolors='r')\n",
        "    plt.title(title)\n",
        "    plt.show()"
      ],
      "metadata": {
        "id": "e-TMbP8JNgye"
      },
      "id": "e-TMbP8JNgye",
      "execution_count": null,
      "outputs": []
    },
    {
      "cell_type": "markdown",
      "source": [
        "#### Decision Tree"
      ],
      "metadata": {
        "id": "MKJXDR-eF965"
      },
      "id": "MKJXDR-eF965"
    },
    {
      "cell_type": "code",
      "source": [
        "from sklearn.tree import DecisionTreeClassifier\n",
        "from sklearn.metrics import accuracy_score\n",
        "\n",
        "Tree = DecisionTreeClassifier(max_depth=100).fit(X_train, y_train)\n",
        "y_predTree = Tree.predict(X_test)\n",
        "accTree = accuracy_score(y_test, y_predTree)\n",
        "accTree"
      ],
      "metadata": {
        "id": "iHPlM9yxGCBE",
        "colab": {
          "base_uri": "https://localhost:8080/"
        },
        "outputId": "936ca381-626a-4a00-c685-895959f477be"
      },
      "id": "iHPlM9yxGCBE",
      "execution_count": null,
      "outputs": [
        {
          "output_type": "execute_result",
          "data": {
            "text/plain": [
              "0.9510426563984598"
            ]
          },
          "metadata": {},
          "execution_count": 22
        }
      ]
    },
    {
      "cell_type": "markdown",
      "source": [
        "#### KNN"
      ],
      "metadata": {
        "id": "s_Fn3HbsGm9M"
      },
      "id": "s_Fn3HbsGm9M"
    },
    {
      "cell_type": "code",
      "source": [
        "from sklearn.neighbors import KNeighborsClassifier\n",
        "from sklearn.metrics import accuracy_score\n",
        "\n",
        "KNN = KNeighborsClassifier(n_neighbors=3).fit(X_train, y_train)\n",
        "y_predKNN = KNN.predict(X_test)\n",
        "accKNN = accuracy_score(y_test, y_predKNN)\n",
        "accKNN"
      ],
      "metadata": {
        "id": "xteDcD72GmrJ",
        "colab": {
          "base_uri": "https://localhost:8080/"
        },
        "outputId": "8bcf78ce-ce81-407c-cf55-a8f1c5f147e0"
      },
      "id": "xteDcD72GmrJ",
      "execution_count": null,
      "outputs": [
        {
          "output_type": "execute_result",
          "data": {
            "text/plain": [
              "0.9516927539130869"
            ]
          },
          "metadata": {},
          "execution_count": 25
        }
      ]
    },
    {
      "cell_type": "markdown",
      "metadata": {
        "id": "GNEP1z6szBqi"
      },
      "source": [
        "#### SGD"
      ],
      "id": "GNEP1z6szBqi"
    },
    {
      "cell_type": "code",
      "execution_count": null,
      "metadata": {
        "id": "h3V0vD0ZzJLE",
        "colab": {
          "base_uri": "https://localhost:8080/"
        },
        "outputId": "fbaf1443-dd27-4939-dc1e-45e996cdee7f"
      },
      "outputs": [
        {
          "output_type": "stream",
          "name": "stdout",
          "text": [
            "0.9263986997562043\n"
          ]
        }
      ],
      "source": [
        "from sklearn.model_selection import cross_validate\n",
        "from sklearn.linear_model import SGDClassifier\n",
        "\n",
        "# loss 매개변수를 'log'로 지정하여 로지스틱 손실 함수를 최소화\n",
        "sc = SGDClassifier(loss='log_loss', max_iter=5, random_state=42)\n",
        "\n",
        "scores = cross_validate(sc, X_train, y_train, n_jobs=-1)\n",
        "print(np.mean(scores['test_score']))"
      ],
      "id": "h3V0vD0ZzJLE"
    },
    {
      "cell_type": "code",
      "execution_count": null,
      "metadata": {
        "id": "3S92iukk0OEK"
      },
      "outputs": [],
      "source": [
        "# sc = SGDClassifier(loss='log',random_state=42)\n",
        "train_score = []\n",
        "test_score = []\n",
        "classes = np.unique(y_train)"
      ],
      "id": "3S92iukk0OEK"
    },
    {
      "cell_type": "code",
      "execution_count": null,
      "metadata": {
        "id": "mP-1dzOJ0TpR"
      },
      "outputs": [],
      "source": [
        "for _ in range(0, 300):\n",
        "  sc.partial_fit(X_train, y_train, classes=classes)\n",
        "  train_score.append(sc.score(X_train, y_train))\n",
        "  test_score.append(sc.score(X_test, y_test))\n"
      ],
      "id": "mP-1dzOJ0TpR"
    },
    {
      "cell_type": "code",
      "execution_count": null,
      "metadata": {
        "id": "bpx-7M6N1naR",
        "colab": {
          "base_uri": "https://localhost:8080/",
          "height": 449
        },
        "outputId": "a5e24c59-6a76-421a-e49c-b50c9b312327"
      },
      "outputs": [
        {
          "output_type": "display_data",
          "data": {
            "text/plain": [
              "<Figure size 640x480 with 1 Axes>"
            ],
            "image/png": "[encoded data removed]"
          },
          "metadata": {}
        }
      ],
      "source": [
        "import matplotlib.pyplot as pit\n",
        "pit.plot(train_score)\n",
        "pit.plot(test_score)\n",
        "plt.xlabel('epoch')\n",
        "pit.ylabel('accuracy')\n",
        "plt.show()"
      ],
      "id": "bpx-7M6N1naR"
    },
    {
      "cell_type": "code",
      "execution_count": null,
      "metadata": {
        "id": "Le0ywMOD0EOp",
        "colab": {
          "base_uri": "https://localhost:8080/"
        },
        "outputId": "da78bacc-fe12-44fb-92d8-95a4eaaee2d2"
      },
      "outputs": [
        {
          "output_type": "stream",
          "name": "stdout",
          "text": [
            "0.958654747765206\n",
            "0.959693954093114\n"
          ]
        }
      ],
      "source": [
        "\"\"\"sc = SGDClassifier(loss='log', max_iter=100, tol=None, random_state=42)\n",
        "sc.fit(X_train, y_train)\"\"\"\n",
        "print(sc.score(X_train, y_train))\n",
        "print(sc.score(X_test, y_test))"
      ],
      "id": "Le0ywMOD0EOp"
    },
    {
      "cell_type": "code",
      "execution_count": null,
      "metadata": {
        "id": "XcZx0lBg3UiC",
        "colab": {
          "base_uri": "https://localhost:8080/"
        },
        "outputId": "572bc572-ca9a-4985-a47c-91f2ec0c8b53"
      },
      "outputs": [
        {
          "output_type": "stream",
          "name": "stdout",
          "text": [
            "0.6586860036256799\n",
            "0.6617492623893584\n"
          ]
        },
        {
          "output_type": "stream",
          "name": "stderr",
          "text": [
            "/usr/local/lib/python3.10/dist-packages/sklearn/linear_model/_stochastic_gradient.py:702: ConvergenceWarning: Maximum number of iteration reached before convergence. Consider increasing max_iter to improve the fit.\n",
            "  warnings.warn(\n"
          ]
        }
      ],
      "source": [
        "SC = SGDClassifier(loss='hinge', max_iter=100, tol=None, random_state=42)\n",
        "sc.fit(X_train, y_train)\n",
        "print(sc.score(X_train, y_train))\n",
        "print(sc.score(X_test, y_test))\n"
      ],
      "id": "XcZx0lBg3UiC"
    },
    {
      "cell_type": "markdown",
      "source": [
        "#### 릿지 라쏘"
      ],
      "metadata": {
        "id": "L6psm0MuNBGw"
      },
      "id": "L6psm0MuNBGw"
    },
    {
      "cell_type": "code",
      "source": [
        "from sklearn.linear_model import Lasso\n",
        "from sklearn.linear_model import Ridge\n",
        "\n",
        "# Ridge\n",
        "ridge = Ridge().fit(X_train, y_train)\n",
        "\n",
        "## 객체 생성\n",
        "train_score = []\n",
        "test_score = []\n",
        "alpha_list = [0.001, 0.01, 0.1, 1, 10, 100]\n",
        "for alpha in alpha_list:\n",
        "  ridge = Ridge(alpha=alpha)\n",
        "  ridge.fit(X_train, y_train)\n",
        "  train_score.append(ridge.score(X_train, y_train))\n",
        "  test_score.append(ridge.score(X_test, y_test))\n",
        "\n",
        "print(train_score)\n",
        "print(test_score)"
      ],
      "metadata": {
        "id": "IoRaEjH1OSXi",
        "colab": {
          "base_uri": "https://localhost:8080/"
        },
        "outputId": "37096c4f-a045-4376-872d-19dc639bd6a7"
      },
      "id": "IoRaEjH1OSXi",
      "execution_count": null,
      "outputs": [
        {
          "output_type": "stream",
          "name": "stdout",
          "text": [
            "[0.3460159581977881, 0.34601595819768793, 0.34601595818767206, 0.3460159571866219, 0.34601585761844267, 0.34600641320093006]\n",
            "[0.35891457186766196, 0.35891457180828823, 0.35891457120560843, 0.358914564285142, 0.3589144062439663, 0.358904448233926]\n"
          ]
        }
      ]
    },
    {
      "cell_type": "code",
      "source": [
        "plt.plot(np.log10(alpha_list),train_score)\n",
        "plt.plot(np.log10(alpha_list),test_score)\n",
        "plt.xlabel('alpha')\n",
        "plt.ylabel('R^2')\n",
        "plt.show()"
      ],
      "metadata": {
        "id": "eQCQU88yPp69",
        "colab": {
          "base_uri": "https://localhost:8080/",
          "height": 449
        },
        "outputId": "1f0fb882-8cf8-485b-8272-fdad2668ee6c"
      },
      "id": "eQCQU88yPp69",
      "execution_count": null,
      "outputs": [
        {
          "output_type": "display_data",
          "data": {
            "text/plain": [
              "<Figure size 640x480 with 1 Axes>"
            ],
            "image/png": "[encoded data removed]"
          },
          "metadata": {}
        }
      ]
    },
    {
      "cell_type": "code",
      "source": [
        "from sklearn.linear_model import Lasso\n",
        "from sklearn.linear_model import Ridge\n",
        "\n",
        "# Lasso\n",
        "lasso = Lasso().fit(X_train, y_train)\n",
        "\n",
        "## 객체 생성\n",
        "train_score = []\n",
        "test_score = []\n",
        "alpha_list = [0.001, 0.01, 0.1, 1, 10, 100]\n",
        "for alpha in alpha_list:\n",
        "  lasso = Lasso(alpha=alpha, max_iter = 1000)\n",
        "  lasso.fit(X_train, y_train)\n",
        "  train_score.append(lasso.score(X_train, y_train))\n",
        "  test_score.append(lasso.score(X_test, y_test))\n",
        "\n",
        "print(train_score)\n",
        "print(test_score)\n"
      ],
      "metadata": {
        "id": "iNQxIeJIOWOj",
        "colab": {
          "base_uri": "https://localhost:8080/"
        },
        "outputId": "7cfbea28-0fc3-4a84-c26d-72770c922052"
      },
      "id": "iNQxIeJIOWOj",
      "execution_count": null,
      "outputs": [
        {
          "output_type": "stream",
          "name": "stdout",
          "text": [
            "[0.34545469555768105, 0.32904005340396636, 0.22675432038355892, 0.1869050528492353, 0.0, 0.0]\n",
            "[0.3582361631202221, 0.34163004338791947, 0.24706869707906032, 0.20163873665411347, -3.1606230721514805e-06, -3.1606230721514805e-06]\n"
          ]
        }
      ]
    },
    {
      "cell_type": "code",
      "source": [
        "plt.plot(np.log10(alpha_list),train_score)\n",
        "plt.plot(np.log10(alpha_list),test_score)\n",
        "plt.xlabel('alpha')\n",
        "plt.ylabel('R^2')\n",
        "plt.show()"
      ],
      "metadata": {
        "id": "9XYZVGPWQPcB",
        "colab": {
          "base_uri": "https://localhost:8080/",
          "height": 137
        },
        "outputId": "2eff8adc-6240-4c2b-bacd-6afa919b6639"
      },
      "id": "9XYZVGPWQPcB",
      "execution_count": null,
      "outputs": [
        {
          "output_type": "error",
          "ename": "SyntaxError",
          "evalue": "ignored",
          "traceback": [
            "\u001b[0;36m  File \u001b[0;32m\"<ipython-input-35-7b9d1260a217>\"\u001b[0;36m, line \u001b[0;32m1\u001b[0m\n\u001b[0;31m    \"plt.plot(np.log10(alpha_list),train_score)\u001b[0m\n\u001b[0m    ^\u001b[0m\n\u001b[0;31mSyntaxError\u001b[0m\u001b[0;31m:\u001b[0m unterminated string literal (detected at line 1)\n"
          ]
        }
      ]
    },
    {
      "cell_type": "code",
      "source": [
        "from sklearn.linear_model import Ridge\n",
        "from sklearn.model_selection import GridSearchCV\n",
        "\n",
        "ridge = Ridge()\n",
        "params = {'alpha' : [0.5, 1, 2, 3, 4, 5, 6, 7, 8, 9, 10] }\n",
        "gridsearch = GridSearchCV(ridge, param_grid = params)\n",
        "gridsearch.fit(X_train, y_train)\n",
        "\n",
        "ridge_estimator = gridsearch.best_estimator_\n",
        "y_pred = ridge_estimator.predict(X_test)\n",
        "\n",
        "print(gridsearch.best_params_)\n",
        "print(ridge_estimator.score(X_test, y_test))"
      ],
      "metadata": {
        "id": "USeQ0LEWiqI8"
      },
      "id": "USeQ0LEWiqI8",
      "execution_count": null,
      "outputs": []
    },
    {
      "cell_type": "code",
      "source": [],
      "metadata": {
        "id": "otNzxTvGRgVt"
      },
      "id": "otNzxTvGRgVt",
      "execution_count": null,
      "outputs": []
    }
  ],
  "metadata": {
    "colab": {
      "provenance": [],
      "include_colab_link": true
    },
    "kernelspec": {
      "display_name": "Python 3",
      "language": "python",
      "name": "python3"
    },
    "language_info": {
      "codemirror_mode": {
        "name": "ipython",
        "version": 3
      },
      "file_extension": ".py",
      "mimetype": "text/x-python",
      "name": "python",
      "nbconvert_exporter": "python",
      "pygments_lexer": "ipython3",
      "version": "3.8.8"
    }
  },
  "nbformat": 4,
  "nbformat_minor": 5
}