{
  "nbformat": 4,
  "nbformat_minor": 0,
  "metadata": {
    "colab": {
      "provenance": [],
      "include_colab_link": true
    },
    "kernelspec": {
      "name": "python3",
      "display_name": "Python 3"
    },
    "language_info": {
      "name": "python"
    }
  },
  "cells": [
    {
      "cell_type": "markdown",
      "metadata": {
        "id": "view-in-github",
        "colab_type": "text"
      },
      "source": [
        "<a href=\"https://colab.research.google.com/github/miy0ung/diabetes_prediction_project/blob/main/%EB%8D%B0%EB%B6%84%EB%8D%B0%EB%B6%84_%ED%94%84%EB%A1%9C%EC%A0%9D%ED%8A%B8_%EB%8B%B9%EB%87%A8%EB%B3%91_%EC%98%88%EC%B8%A1_%EB%8D%B0%EC%9D%B4%ED%84%B0%EB%A5%BC_%ED%99%9C%EC%9A%A9%ED%95%9C_%EB%AA%A8%EB%8D%B8_%EB%B9%84%EA%B5%90_%EB%B0%8F_%EC%A3%BC%EC%9A%94_%EC%9C%84%ED%97%98%EC%9A%94%EC%9D%B8_%EC%84%A0%EB%B3%84.ipynb\" target=\"_parent\"><img src=\"https://colab.research.google.com/assets/colab-badge.svg\" alt=\"Open In Colab\"/></a>"
      ]
    },
    {
      "cell_type": "markdown",
      "source": [
        "당뇨병 예측 데이터를 활용한 모델 비교 및 주요 위험요인 선별"
      ],
      "metadata": {
        "id": "tTdW-VVue4LW"
      }
    },
    {
      "cell_type": "markdown",
      "source": [
        "# 데이터 전처리"
      ],
      "metadata": {
        "id": "61dEUiAaW2Tb"
      }
    },
    {
      "cell_type": "markdown",
      "source": [
        "## import\n",
        "> pandas, numpy, matplotlib\n",
        "\n",
        "> get df"
      ],
      "metadata": {
        "id": "XAjRCr08cGg8"
      }
    },
    {
      "cell_type": "code",
      "source": [
        "# pandas, numpy, matplotlib\n",
        "import pandas as pd\n",
        "import numpy as np\n",
        "import matplotlib.pyplot as plt"
      ],
      "metadata": {
        "id": "NuMYhpgPW5y8"
      },
      "execution_count": 1,
      "outputs": []
    },
    {
      "cell_type": "code",
      "source": [
        "from google.colab import drive\n",
        "drive.mount('/content/drive')"
      ],
      "metadata": {
        "colab": {
          "base_uri": "https://localhost:8080/"
        },
        "id": "kkBgme59mAb1",
        "outputId": "fe4280e7-8d0e-4c43-b0e4-fb8cf686e75b"
      },
      "execution_count": 3,
      "outputs": [
        {
          "output_type": "stream",
          "name": "stdout",
          "text": [
            "Mounted at /content/drive\n"
          ]
        }
      ]
    },
    {
      "cell_type": "code",
      "execution_count": 5,
      "metadata": {
        "id": "NcT1K-TAWUXw"
      },
      "outputs": [],
      "source": [
        "# get df\n",
        "df = pd.read_csv(\"/content/drive/MyDrive/DAT/당뇨병 예측/diabetes_prediction_dataset.csv\")"
      ]
    },
    {
      "cell_type": "markdown",
      "source": [
        "## 01. 데이터 수정\n",
        "> 결측치 처리\n",
        "\n",
        "> 중복된 행 제거\n",
        "\n",
        "> 나이 변수 형변환\n",
        "* float -> int"
      ],
      "metadata": {
        "id": "5wzqzQM_Ic0X"
      }
    },
    {
      "cell_type": "code",
      "source": [
        "# 결측치 처리\n",
        "df.isnull().sum()"
      ],
      "metadata": {
        "id": "Vic6LD4NcceH",
        "colab": {
          "base_uri": "https://localhost:8080/"
        },
        "outputId": "20f7b61f-efe4-42b1-9970-f440697dcdba"
      },
      "execution_count": 6,
      "outputs": [
        {
          "output_type": "execute_result",
          "data": {
            "text/plain": [
              "gender                 0\n",
              "age                    0\n",
              "hypertension           0\n",
              "heart_disease          0\n",
              "smoking_history        0\n",
              "bmi                    0\n",
              "HbA1c_level            0\n",
              "blood_glucose_level    0\n",
              "diabetes               0\n",
              "dtype: int64"
            ]
          },
          "metadata": {},
          "execution_count": 6
        }
      ]
    },
    {
      "cell_type": "code",
      "source": [
        "# 중복된 행 제거\n",
        "df.duplicated().sum()\n",
        "df.shape"
      ],
      "metadata": {
        "id": "O3jjiIBLdSZK",
        "colab": {
          "base_uri": "https://localhost:8080/"
        },
        "outputId": "d96c1d35-cf82-4664-b1f9-4d64d1ab9a42"
      },
      "execution_count": 7,
      "outputs": [
        {
          "output_type": "execute_result",
          "data": {
            "text/plain": [
              "(100000, 9)"
            ]
          },
          "metadata": {},
          "execution_count": 7
        }
      ]
    },
    {
      "cell_type": "code",
      "source": [
        "# 나이 변수 형변환\n",
        "df['age'] = df['age'].astype(int)"
      ],
      "metadata": {
        "id": "XzzqyjB_dS6C"
      },
      "execution_count": 8,
      "outputs": []
    },
    {
      "cell_type": "markdown",
      "source": [
        "## gender\n",
        "> ~Others~\n",
        "\n",
        "> dummy"
      ],
      "metadata": {
        "id": "k7vj8lkUckk3"
      }
    },
    {
      "cell_type": "code",
      "source": [
        "# remove Others\n",
        "df = df[df['gender'] != 'Other']"
      ],
      "metadata": {
        "id": "RJZwx7ovcsL2"
      },
      "execution_count": 9,
      "outputs": []
    },
    {
      "cell_type": "code",
      "source": [
        "# dummy\n",
        "gender_dummies = pd.get_dummies(df['gender'])\n",
        "df = pd.concat([df, gender_dummies], axis = 1)\n",
        "df=df.drop(['gender'],axis = 1)"
      ],
      "metadata": {
        "id": "Ga-vB44tc9hu"
      },
      "execution_count": 10,
      "outputs": []
    },
    {
      "cell_type": "markdown",
      "source": [
        "## smoking_history\n",
        "> smoking_history 열 전체 제거"
      ],
      "metadata": {
        "id": "iYXOQcwTcJfD"
      }
    },
    {
      "cell_type": "code",
      "source": [
        "# smoking_history 열 전체 제거\n",
        "df.drop([\"smoking_history\"], axis = 1, inplace = True)"
      ],
      "metadata": {
        "id": "cGo0lFWoZX8L"
      },
      "execution_count": 11,
      "outputs": []
    },
    {
      "cell_type": "markdown",
      "source": [
        "## diabetes\n",
        "> 맨 오른쪽 열으로 이동"
      ],
      "metadata": {
        "id": "YCK0mixldpzd"
      }
    },
    {
      "cell_type": "code",
      "source": [
        "# 맨 오른쪽 열으로 이동\n",
        "cols = df.columns.tolist()\n",
        "cols.remove('diabetes')\n",
        "df = df[cols+['diabetes']]"
      ],
      "metadata": {
        "id": "fVxPmrvpdwwe"
      },
      "execution_count": 12,
      "outputs": []
    },
    {
      "cell_type": "markdown",
      "source": [
        "## train/test split\n",
        "> set X, y\n",
        "\n",
        "> train_test_split"
      ],
      "metadata": {
        "id": "IMJSSIUVI2A1"
      }
    },
    {
      "cell_type": "code",
      "source": [
        "# set X, y\n",
        "X = df.iloc[:,:-1]\n",
        "y = df.iloc[:,-1]"
      ],
      "metadata": {
        "id": "j8W4Qp7Tdx0W"
      },
      "execution_count": 13,
      "outputs": []
    },
    {
      "cell_type": "code",
      "source": [
        "# train_test_split\n",
        "from sklearn.model_selection import train_test_split\n",
        "X_train, X_test, y_train, y_test = train_test_split(X, y, test_size = 0.2, random_state = 0)"
      ],
      "metadata": {
        "id": "cJ-FIpn_aLBz"
      },
      "execution_count": 14,
      "outputs": []
    },
    {
      "cell_type": "markdown",
      "source": [
        "# Undersampling / Oversampling | w/ logistic"
      ],
      "metadata": {
        "id": "c_1LI8jabFWF"
      }
    },
    {
      "cell_type": "markdown",
      "source": [
        "## import\n",
        "> recall_score, LogisticRegression"
      ],
      "metadata": {
        "id": "uB52u6Dkv2tW"
      }
    },
    {
      "cell_type": "code",
      "source": [
        "from sklearn.metrics import recall_score\n",
        "from sklearn.linear_model import LogisticRegression"
      ],
      "metadata": {
        "id": "i5MjY1zHv2PN"
      },
      "execution_count": 15,
      "outputs": []
    },
    {
      "cell_type": "code",
      "source": [
        "from sklearn.preprocessing import StandardScaler\n",
        "\n",
        "scaler = StandardScaler()\n",
        "scaler.fit(X)\n",
        "X = scaler.transform(X)"
      ],
      "metadata": {
        "id": "LDk-T5Rm0MY6"
      },
      "execution_count": 16,
      "outputs": []
    },
    {
      "cell_type": "markdown",
      "source": [
        "## Undersampling\n",
        "> Undersampling\n",
        "\n",
        "> Logistic Regression"
      ],
      "metadata": {
        "id": "wCDIVp2gaLfe"
      }
    },
    {
      "cell_type": "code",
      "source": [
        "# Undersampling\n",
        "from imblearn.under_sampling import RandomUnderSampler\n",
        "\n",
        "max_dia = df[df['diabetes'] == 1]\n",
        "min_dia = df[df['diabetes'] == 0]\n",
        "undersample = RandomUnderSampler(random_state = 42)\n",
        "X_train_under, y_train_under = undersample.fit_resample(X_train, y_train)\n",
        "y_train_under.value_counts()"
      ],
      "metadata": {
        "colab": {
          "base_uri": "https://localhost:8080/"
        },
        "id": "Y9dWrLCGfX9n",
        "outputId": "2fb2e7a5-9f7b-4c88-b631-52ba701afb0b"
      },
      "execution_count": 17,
      "outputs": [
        {
          "output_type": "execute_result",
          "data": {
            "text/plain": [
              "0    6792\n",
              "1    6792\n",
              "Name: diabetes, dtype: int64"
            ]
          },
          "metadata": {},
          "execution_count": 17
        }
      ]
    },
    {
      "cell_type": "code",
      "source": [
        "# Logistic Regression\n",
        "from sklearn.linear_model import LogisticRegression\n",
        "\n",
        "lr = LogisticRegression()\n",
        "lr.fit(X_train_under,y_train_under)\n",
        "'''\n",
        "lasso_lr = LogisticRegression(penalty='l2')\n",
        "lasso_lr.fit(X_train_under, y_train_under)\n",
        "score = lasso_lr.score(X_train_under, y_train_under)\n",
        "print(score)\n",
        "릿지라쏘 규제\n",
        "'''"
      ],
      "metadata": {
        "id": "Dpoxb2swlSzs",
        "colab": {
          "base_uri": "https://localhost:8080/",
          "height": 221
        },
        "outputId": "ec627370-d72e-45fd-f2f2-60a5f979ebdb"
      },
      "execution_count": 18,
      "outputs": [
        {
          "output_type": "stream",
          "name": "stderr",
          "text": [
            "/usr/local/lib/python3.10/dist-packages/sklearn/linear_model/_logistic.py:458: ConvergenceWarning: lbfgs failed to converge (status=1):\n",
            "STOP: TOTAL NO. of ITERATIONS REACHED LIMIT.\n",
            "\n",
            "Increase the number of iterations (max_iter) or scale the data as shown in:\n",
            "    https://scikit-learn.org/stable/modules/preprocessing.html\n",
            "Please also refer to the documentation for alternative solver options:\n",
            "    https://scikit-learn.org/stable/modules/linear_model.html#logistic-regression\n",
            "  n_iter_i = _check_optimize_result(\n"
          ]
        },
        {
          "output_type": "execute_result",
          "data": {
            "text/plain": [
              "\"\\nlasso_lr = LogisticRegression(penalty='l2')\\nlasso_lr.fit(X_train_under, y_train_under)\\nscore = lasso_lr.score(X_train_under, y_train_under)\\nprint(score)\\n릿지라쏘 규제\\n\""
            ],
            "application/vnd.google.colaboratory.intrinsic+json": {
              "type": "string"
            }
          },
          "metadata": {},
          "execution_count": 18
        }
      ]
    },
    {
      "cell_type": "code",
      "source": [
        "from sklearn.metrics import roc_auc_score\n",
        "prediction_train = lr.predict(X_train_under)\n",
        "prediction_test = lr.predict(X_test)\n",
        "print('roc auc value train : {}'.format(roc_auc_score(y_train_under,prediction_train)))\n",
        "print('roc auc value test: {}'.format(roc_auc_score(y_test,prediction_test)))"
      ],
      "metadata": {
        "colab": {
          "base_uri": "https://localhost:8080/"
        },
        "id": "lWcoxJi7t0O7",
        "outputId": "8d479180-0b23-4cc6-ef09-026579e4d1a2"
      },
      "execution_count": 19,
      "outputs": [
        {
          "output_type": "stream",
          "name": "stdout",
          "text": [
            "roc auc value train : 0.8861896348645466\n",
            "roc auc value test: 0.8885362779971785\n"
          ]
        }
      ]
    },
    {
      "cell_type": "markdown",
      "source": [
        "랜덤 포레스트"
      ],
      "metadata": {
        "id": "tSa5p3IDZdTW"
      }
    },
    {
      "cell_type": "code",
      "source": [
        "from sklearn.ensemble import RandomForestClassifier\n",
        "from sklearn.metrics import accuracy_score"
      ],
      "metadata": {
        "id": "O_RCAYhhXz9k"
      },
      "execution_count": 20,
      "outputs": []
    },
    {
      "cell_type": "code",
      "source": [
        "# Undersampled X, y를 활용한 랜덤포레스트 구성\n",
        "from sklearn.ensemble import RandomForestClassifier\n",
        "\n",
        "rf_clf = RandomForestClassifier(random_state = 42, n_estimators = 200, max_depth = 11)\n",
        "rf_clf.fit(X_train_under, y_train_under)\n",
        "\n",
        "y_train_pred = rf_clf.predict(X_train_under)\n",
        "y_test_pred = rf_clf.predict(X_test)"
      ],
      "metadata": {
        "id": "lDszCEYvZ4PM"
      },
      "execution_count": 21,
      "outputs": []
    },
    {
      "cell_type": "code",
      "source": [
        "# Grid Search\n",
        "from sklearn.ensemble import RandomForestClassifier\n",
        "from sklearn.model_selection import GridSearchCV\n",
        "\n",
        "params = {'n_estimators' : [10,50,100,200,300,500],\n",
        "          'max_depth' : [4,5,6,7,8,9,10,11,12],\n",
        "            }\n",
        "\n",
        "# RandomForestClassifier 객체 생성 후 GridSearchCV 수행\n",
        "rf_clf_under = RandomForestClassifier(random_state = 0)            # n_jobs = -1\n",
        "grid_cv = GridSearchCV(rf_clf_under, param_grid = params, cv = 3)            # n_jobs = -1\n",
        "grid_cv.fit(X_train_under, y_train_under)\n",
        "\n",
        "print('언더모델 최적 하이퍼파라미터: ', grid_cv.best_params_)\n",
        "print('최고 예측 정확도: {:.4f}'.format(grid_cv.best_score_))"
      ],
      "metadata": {
        "id": "UQVNBL84akhE"
      },
      "execution_count": null,
      "outputs": []
    },
    {
      "cell_type": "code",
      "source": [
        "from sklearn.metrics import roc_auc_score\n",
        "# auc score\n",
        "print('roc_auc_score_train:', roc_auc_score(y_train_under, y_train_pred))\n",
        "print('roc_auc_score_test:', roc_auc_score(y_test, y_test_pred))"
      ],
      "metadata": {
        "id": "Uz-lgXAQrR5S"
      },
      "execution_count": null,
      "outputs": []
    },
    {
      "cell_type": "markdown",
      "source": [
        "SVM"
      ],
      "metadata": {
        "id": "c_h4SMOWbKHp"
      }
    },
    {
      "cell_type": "code",
      "source": [
        "# SVM : 'linear(선형)'\n",
        "from sklearn.svm import SVC\n",
        "from sklearn.metrics import accuracy_score, recall_score, roc_auc_score\n",
        "\n",
        "svm = SVC(kernel = 'linear')\n",
        "svm.fit(X_train_under, y_train_under)\n",
        "\n",
        "y_train_pred = svm.predict(X_train_under)\n",
        "y_test_pred = svm.predict(X_test)\n",
        "\n",
        "# auc\n",
        "print('roc auc value train : {}'.format(roc_auc_score(y_train_under,y_train_pred)))\n",
        "print('roc auc value test: {}'.format(roc_auc_score(y_test,y_test_pred)))"
      ],
      "metadata": {
        "id": "l_vkUwTxbMpX"
      },
      "execution_count": null,
      "outputs": []
    },
    {
      "cell_type": "code",
      "source": [
        "\n",
        "# SVM : 'poly(다중)'\n",
        "\n",
        "import numpy as np\n",
        "from sklearn.svm import SVC\n",
        "from sklearn.metrics import accuracy_score, recall_score, roc_auc_score\n",
        "\n",
        "svm = SVC(kernel = 'poly')\n",
        "svm.fit(X_train_under, y_train_under)\n",
        "\n",
        "y_train_pred = svm.predict(X_train_under)\n",
        "y_test_pred = svm.predict(X_test)\n",
        "\n",
        "# auc\n",
        "print('roc auc value train : {}'.format(roc_auc_score(y_train_under,y_train_pred)))\n",
        "print('roc auc value test: {}'.format(roc_auc_score(y_test,y_test_pred)))"
      ],
      "metadata": {
        "id": "AWowknI_bQIz"
      },
      "execution_count": null,
      "outputs": []
    },
    {
      "cell_type": "code",
      "source": [
        "# SVM : 'rbf(가우시안)'\n",
        "from sklearn.svm import SVC\n",
        "from sklearn.metrics import accuracy_score, recall_score, roc_auc_score\n",
        "\n",
        "svm = SVC(kernel = 'rbf')\n",
        "svm.fit(X_train_under, y_train_under)\n",
        "\n",
        "y_train_pred = svm.predict(X_train_under)\n",
        "y_test_pred = svm.predict(X_test)\n",
        "\n",
        "# auc\n",
        "print('roc auc value train : {}'.format(roc_auc_score(y_train_under,y_train_pred)))\n",
        "print('roc auc value test: {}'.format(roc_auc_score(y_test,y_test_pred)))"
      ],
      "metadata": {
        "id": "T7p6En2RcC7w"
      },
      "execution_count": null,
      "outputs": []
    },
    {
      "cell_type": "markdown",
      "source": [
        "Feature Importance"
      ],
      "metadata": {
        "id": "GrAPUrrrezdr"
      }
    },
    {
      "cell_type": "code",
      "source": [
        "from sklearn.ensemble import RandomForestClassifier\n",
        "rf_clf = RandomForestClassifier()\n",
        "rf_clf.fit(X_train_under, y_train_under)"
      ],
      "metadata": {
        "id": "OTcALRlOqoMZ"
      },
      "execution_count": null,
      "outputs": []
    },
    {
      "cell_type": "code",
      "source": [
        "feature_importance_under = pd.DataFrame(rf_clf.feature_importances_.reshape((1, -1)), columns=X_train_under.columns, index=['feature_importance_under'])\n",
        "feature_importance_under"
      ],
      "metadata": {
        "id": "Q3bhIjl6qwAM"
      },
      "execution_count": null,
      "outputs": []
    },
    {
      "cell_type": "code",
      "source": [
        "import matplotlib.pyplot as plt\n",
        "import seaborn as sns\n",
        "%matplotlib inline\n",
        "\n",
        "ftr_importances_values = rf_clf.feature_importances_\n",
        "ftr_importances = pd.Series(ftr_importances_values, index = X_train_under.columns)\n",
        "ftr_top10 = ftr_importances.sort_values(ascending=False)[:10]\n",
        "\n",
        "plt.figure(figsize=(8,6))\n",
        "plt.title('Top 10 Feature Importances')\n",
        "sns.barplot(x=ftr_top10, y=ftr_top10.index)\n",
        "plt.show()"
      ],
      "metadata": {
        "id": "8l8LNOM3qqkg"
      },
      "execution_count": null,
      "outputs": []
    }
  ]
}